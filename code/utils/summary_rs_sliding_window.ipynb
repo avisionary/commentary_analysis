{
 "cells": [
  {
   "cell_type": "code",
   "execution_count": 77,
   "metadata": {},
   "outputs": [
    {
     "name": "stderr",
     "output_type": "stream",
     "text": [
      "[nltk_data] Downloading package stopwords to\n",
      "[nltk_data]     /Users/raghavsharma/nltk_data...\n",
      "[nltk_data]   Package stopwords is already up-to-date!\n",
      "[nltk_data] Downloading package wordnet to\n",
      "[nltk_data]     /Users/raghavsharma/nltk_data...\n",
      "[nltk_data]   Package wordnet is already up-to-date!\n",
      "[nltk_data] Downloading package omw-1.4 to\n",
      "[nltk_data]     /Users/raghavsharma/nltk_data...\n",
      "[nltk_data]   Package omw-1.4 is already up-to-date!\n"
     ]
    }
   ],
   "source": [
    "import pandas as pd\n",
    "import numpy as np\n",
    "\n",
    "import re\n",
    "import string\n",
    "\n",
    "import nltk\n",
    "from nltk.corpus import stopwords\n",
    "from nltk.tokenize import word_tokenize, sent_tokenize\n",
    "from nltk.stem import PorterStemmer\n",
    "from nltk.translate import bleu\n",
    "nltk.download('stopwords')\n",
    "nltk.download('wordnet')\n",
    "nltk.download('omw-1.4')\n",
    "\n",
    "import spacy\n",
    "from spacy.lang.en.stop_words import STOP_WORDS\n",
    "from string import punctuation\n",
    "from collections import Counter\n",
    "from heapq import nlargest\n",
    "\n",
    "import openai\n",
    "\n",
    "from sklearn.feature_extraction.text import CountVectorizer\n",
    "from sklearn.feature_extraction.text import TfidfVectorizer\n",
    "from sklearn.metrics.pairwise import cosine_similarity\n",
    "\n",
    "import warnings\n",
    "warnings.filterwarnings('ignore')"
   ]
  },
  {
   "cell_type": "code",
   "execution_count": 7,
   "metadata": {},
   "outputs": [
    {
     "data": {
      "text/html": [
       "<div>\n",
       "<style scoped>\n",
       "    .dataframe tbody tr th:only-of-type {\n",
       "        vertical-align: middle;\n",
       "    }\n",
       "\n",
       "    .dataframe tbody tr th {\n",
       "        vertical-align: top;\n",
       "    }\n",
       "\n",
       "    .dataframe thead th {\n",
       "        text-align: right;\n",
       "    }\n",
       "</style>\n",
       "<table border=\"1\" class=\"dataframe\">\n",
       "  <thead>\n",
       "    <tr style=\"text-align: right;\">\n",
       "      <th></th>\n",
       "      <th>time</th>\n",
       "      <th>comment</th>\n",
       "      <th>event</th>\n",
       "      <th>event_player</th>\n",
       "      <th>event_team</th>\n",
       "      <th>comment_desc</th>\n",
       "    </tr>\n",
       "  </thead>\n",
       "  <tbody>\n",
       "    <tr>\n",
       "      <th>0</th>\n",
       "      <td>NaN</td>\n",
       "      <td>We hope you have enjoyed our live coverage of...</td>\n",
       "      <td>NaN</td>\n",
       "      <td>NaN</td>\n",
       "      <td>NaN</td>\n",
       "      <td>full time summary</td>\n",
       "    </tr>\n",
       "    <tr>\n",
       "      <th>1</th>\n",
       "      <td>NaN</td>\n",
       "      <td>While Madrid's Champions League defence conti...</td>\n",
       "      <td>NaN</td>\n",
       "      <td>NaN</td>\n",
       "      <td>NaN</td>\n",
       "      <td>full time summary</td>\n",
       "    </tr>\n",
       "    <tr>\n",
       "      <th>2</th>\n",
       "      <td>NaN</td>\n",
       "      <td>It's all over at Stamford Bridge, and it's an...</td>\n",
       "      <td>NaN</td>\n",
       "      <td>NaN</td>\n",
       "      <td>NaN</td>\n",
       "      <td>full time summary</td>\n",
       "    </tr>\n",
       "    <tr>\n",
       "      <th>3</th>\n",
       "      <td>90 + 3</td>\n",
       "      <td>FULL-TIME: CHELSEA 0-2 REAL MADRID</td>\n",
       "      <td>NaN</td>\n",
       "      <td>NaN</td>\n",
       "      <td>NaN</td>\n",
       "      <td>timer</td>\n",
       "    </tr>\n",
       "    <tr>\n",
       "      <th>4</th>\n",
       "      <td>90 + 3</td>\n",
       "      <td>Valverde sweeps a pass out to Ceballos, who c...</td>\n",
       "      <td>NaN</td>\n",
       "      <td>NaN</td>\n",
       "      <td>NaN</td>\n",
       "      <td>timer</td>\n",
       "    </tr>\n",
       "  </tbody>\n",
       "</table>\n",
       "</div>"
      ],
      "text/plain": [
       "     time                                            comment event  \\\n",
       "0     NaN   We hope you have enjoyed our live coverage of...   NaN   \n",
       "1     NaN   While Madrid's Champions League defence conti...   NaN   \n",
       "2     NaN   It's all over at Stamford Bridge, and it's an...   NaN   \n",
       "3  90 + 3                FULL-TIME: CHELSEA 0-2 REAL MADRID    NaN   \n",
       "4  90 + 3   Valverde sweeps a pass out to Ceballos, who c...   NaN   \n",
       "\n",
       "  event_player event_team       comment_desc  \n",
       "0          NaN        NaN  full time summary  \n",
       "1          NaN        NaN  full time summary  \n",
       "2          NaN        NaN  full time summary  \n",
       "3          NaN        NaN              timer  \n",
       "4          NaN        NaN              timer  "
      ]
     },
     "execution_count": 7,
     "metadata": {},
     "output_type": "execute_result"
    }
   ],
   "source": [
    "temp_df = pd.read_csv('../../data/temp_data.csv')\n",
    "temp_df.head()"
   ]
  },
  {
   "cell_type": "markdown",
   "metadata": {},
   "source": [
    "# Use sliding window technique with 15 mins buffer for the match live ticker"
   ]
  },
  {
   "cell_type": "code",
   "execution_count": 10,
   "metadata": {},
   "outputs": [],
   "source": [
    "def window_df(df, start_timer, end_timer):\n",
    "    comments = []\n",
    "    for i in range(len(df)):\n",
    "        time = df['time'][i]\n",
    "        if time != 'nan':\n",
    "            if '+' in time:\n",
    "                time = time[:2]\n",
    "            if int(time) >= start_timer and int(time) < end_timer:\n",
    "                if df['comment_desc'][i] == 'timer':\n",
    "                    comments.append(df['comment'][i])\n",
    "    return \" \".join(comments)"
   ]
  },
  {
   "cell_type": "code",
   "execution_count": 11,
   "metadata": {},
   "outputs": [],
   "source": [
    "# Convert time column to str\n",
    "temp_df['time'] = temp_df['time'].astype(str)\n",
    "\n",
    "# Divide the dataframe into 6 separate dfs, each corresponding to 15 minutes of the match.\n",
    "comm_15 = window_df(temp_df, 0, 16)\n",
    "comm_30 = window_df(temp_df, 16, 31)\n",
    "comm_45 = window_df(temp_df, 31, 46)\n",
    "comm_60 = window_df(temp_df, 46, 61)\n",
    "comm_75 = window_df(temp_df, 61, 76)\n",
    "comm_90 = window_df(temp_df, 76, 91)\n",
    "\n",
    "# Append the respective live tickers to a list\n",
    "window_comments = [comm_15, comm_30, comm_45, comm_60, comm_75, comm_90]"
   ]
  },
  {
   "cell_type": "code",
   "execution_count": 22,
   "metadata": {},
   "outputs": [],
   "source": [
    "# Will be used later for summaries\n",
    "timer_list= ['[1-15]', '[16-30]', '[31-45]', '[46-60]', '[61-75]', '[76-90]']"
   ]
  },
  {
   "cell_type": "markdown",
   "metadata": {},
   "source": [
    "# Using SpaCy to summarize text"
   ]
  },
  {
   "cell_type": "markdown",
   "metadata": {},
   "source": [
    "## Approach 1"
   ]
  },
  {
   "cell_type": "code",
   "execution_count": 12,
   "metadata": {},
   "outputs": [],
   "source": [
    "nlp = spacy.load(\"en_core_web_sm\")\n",
    "\n",
    "def get_spacy_summary(text):\n",
    "    doc = nlp(text)\n",
    "\n",
    "    keyword = []\n",
    "    stopwords = list(STOP_WORDS)\n",
    "    pos_tag = ['PROPN', 'ADJ', 'NOUN', 'VERB']\n",
    "    for token in doc:\n",
    "        if (token.text in stopwords or token.text in punctuation):\n",
    "            continue\n",
    "        if token.pos_ in pos_tag:\n",
    "            keyword.append(token.text)\n",
    "\n",
    "    freq_word = Counter(keyword)\n",
    "\n",
    "    max_freq = Counter(keyword).most_common(1)[0][1]\n",
    "    for word in freq_word.keys():\n",
    "        freq_word[word] = (freq_word[word]/max_freq)\n",
    "\n",
    "    sent_strenght = {}\n",
    "    for sent in doc.sents:\n",
    "        for word in sent:\n",
    "            if word.text in freq_word.keys():\n",
    "                if sent in sent_strenght.keys():\n",
    "                    sent_strenght[sent] += freq_word[word.text]\n",
    "                else:\n",
    "                    sent_strenght[sent] = freq_word[word.text]\n",
    "\n",
    "    summarized_sentences = nlargest(3, sent_strenght, key=sent_strenght.get)\n",
    "    final_sentences = [w.text for w in summarized_sentences]\n",
    "    return \" \".join(final_sentences)"
   ]
  },
  {
   "cell_type": "markdown",
   "metadata": {},
   "source": [
    "## Approach 2"
   ]
  },
  {
   "cell_type": "code",
   "execution_count": 18,
   "metadata": {},
   "outputs": [],
   "source": [
    "def summarize_text_spacy(text, num_sentences=3):\n",
    "    doc = nlp(text)\n",
    "    sentences = [sent for sent in doc.sents]\n",
    "    sentence_scores = {}\n",
    "    for i, sent in enumerate(sentences):\n",
    "        sentence_scores[i] = sent.similarity(doc)\n",
    "    top_sentences = sorted(sentence_scores, key=sentence_scores.get, reverse=True)[:num_sentences]\n",
    "    summary = [sentences[i].text.strip() for i in top_sentences]\n",
    "    return \" \".join(summary)"
   ]
  },
  {
   "cell_type": "markdown",
   "metadata": {},
   "source": [
    "# Using NLTK for text summarization"
   ]
  },
  {
   "cell_type": "code",
   "execution_count": 14,
   "metadata": {},
   "outputs": [],
   "source": [
    "def remove_punct(text):\n",
    "    \"\"\" A method to remove punctuations from text \"\"\"\n",
    "    text  = \"\".join([char for char in text if char not in string.punctuation])\n",
    "    text = re.sub('[0-9]+', '', text) #removes numbers from text\n",
    "    return text"
   ]
  },
  {
   "cell_type": "code",
   "execution_count": 15,
   "metadata": {},
   "outputs": [],
   "source": [
    "def tokenization(text):\n",
    "    \"\"\" A method to tokenize text data \"\"\"\n",
    "    text = re.split('\\W+', text) #splitting each sentence/ tweet into its individual words\n",
    "    return text"
   ]
  },
  {
   "cell_type": "code",
   "execution_count": 17,
   "metadata": {},
   "outputs": [],
   "source": [
    "def summarize_text_nltk(text, num_sentences=3):\n",
    "    # Tokenize the text into sentences\n",
    "    sentences = sent_tokenize(text)\n",
    "    \n",
    "    # Tokenize the sentences into words and remove stopwords\n",
    "    \n",
    "    text_punct_removed = remove_punct(text)\n",
    "    words = tokenization(text_punct_removed.lower())\n",
    "    \n",
    "    # words = word_tokenize(text)\n",
    "\n",
    "    # remove stopwords\n",
    "    stop_words =  set(stopwords.words('english'))\n",
    "    filtered_words = [word for word in words if word not in stop_words]\n",
    "    \n",
    "    # Apply stemming to the filtered words\n",
    "    stemmer = PorterStemmer()\n",
    "    stemmed_words = [stemmer.stem(word) for word in filtered_words]\n",
    "\n",
    "    # Lemmatize words\n",
    "    word_net_lemma = nltk.WordNetLemmatizer()\n",
    "    word_lemma = [word_net_lemma.lemmatize(word) for word in stemmed_words]\n",
    "    \n",
    "    # Calculate word frequency and sentence scores\n",
    "    word_freq = nltk.FreqDist(stemmed_words)\n",
    "    sentence_scores = {}\n",
    "    for i, sentence in enumerate(sentences):\n",
    "        for word in nltk.word_tokenize(sentence.lower()):\n",
    "            if word in word_freq:\n",
    "                if len(sentence.split()) < 30:\n",
    "                    if i not in sentence_scores:\n",
    "                        sentence_scores[i] = word_freq[word]\n",
    "                    else:\n",
    "                        sentence_scores[i] += word_freq[word]\n",
    "    \n",
    "    # Select the top sentences based on their scores\n",
    "    summary_sentences = nlargest(num_sentences, sentence_scores, key=sentence_scores.get)\n",
    "    summary = [sentences[i] for i in sorted(summary_sentences)]\n",
    "    return \" \".join(summary)"
   ]
  },
  {
   "cell_type": "markdown",
   "metadata": {},
   "source": [
    "# Using GPT-3"
   ]
  },
  {
   "cell_type": "code",
   "execution_count": 96,
   "metadata": {},
   "outputs": [],
   "source": [
    "def summarize_text_gpt(corpus, org_key, api_key):\n",
    "    openai.organization = org_key\n",
    "    openai.api_key = api_key\n",
    "    engine_list = openai.Engine.list() # calling the engines available from the openai api \n",
    "    \n",
    "\n",
    "    response = openai.Completion.create(engine=\"text-davinci-003\",prompt=corpus,temperature=0.3,\n",
    "            max_tokens=200,\n",
    "            top_p=1,\n",
    "            frequency_penalty=0,\n",
    "            presence_penalty=0,\n",
    "            stop=[\"\\n\"]\n",
    "        )\n",
    "    return response[\"choices\"][0][\"text\"]"
   ]
  },
  {
   "cell_type": "code",
   "execution_count": null,
   "metadata": {},
   "outputs": [],
   "source": [
    "# reading keys from file\n",
    "\n",
    "api = pd.read_csv('../../../OpenAI.txt')\n",
    "\n",
    "api_key = api[\"Key\"][0]\n",
    "org_key = api[\"Key\"][1]\n",
    "gpt_comm = summarize_text_gpt(window_comments, org_key, api_key)\n",
    "gpt_comm"
   ]
  },
  {
   "cell_type": "markdown",
   "metadata": {},
   "source": [
    "# Summarize the data"
   ]
  },
  {
   "cell_type": "markdown",
   "metadata": {},
   "source": [
    "## Using SpaCy (both approaches)"
   ]
  },
  {
   "cell_type": "code",
   "execution_count": 24,
   "metadata": {},
   "outputs": [
    {
     "data": {
      "text/plain": [
       "[\"A rare loose ball from Modric gives Chelsea the chance to put Madrid under pressure, but Kante is crowded out near the edge of the area and Madrid survive. Chelsea continue to press as James' cross runs all the way through to Kovacic on the edge of the area, only for Militao to block his shot at close quarters. Chelsea have progressed from five of their last seven Champions League ties when losing the first leg away from home, and they have also qualified from their last two ties when losing the opener by two clear goals (vs Napoli in 2011-12 and Paris Saint-Germain in 2013-14).\",\n",
       " \"Militao's yellow card means he will miss the first leg of any semi-final tie through suspension, if Madrid make it…   Militao appears to be in some discomfort following that challenge on Gallagher, having kicked the bottom of the Chelsea man's boot as he flew in at a dangerous height. Rodrygo finds space on the right-hand side of the area after linking up with Carvajal, and the Brazilian youngster opts to go for goal after shifting the ball to his right foot. The Madrid man is booked as Chelsea get a free-kick in a dangerous position, with Fernandez set to deliver.   \",\n",
       " \"Kovacic dances through midfield and tees up James on the right, allowing him to pick out his opposite wing-back Cucurella with a terrific low cross. So much of Chelsea's attacking play has come down that flank, but wing-back James appeared to be limping a moment ago, which will be a big concern for Lampard.    Havertz flicks the corner on, but Gallagher can't reach the loose ball and it drops harmlessly wide of Courtois' right-hand post.   \",\n",
       " 'Rodrygo is the target of a clever free-kick into the right-hand channel, but Chalobah and Silva combine to crowd the Brazilian out and win possession for Chelsea.    Chelsea are baying for a second yellow card for Militao as the Brazilian clips Chalobah on the left flank! Madrid make a half-time substitution as former Chelsea favourite Rudiger enters the fray.',\n",
       " \"Following his opener in this game, all four of Rodrygo's Champions League knockout-stage goals have come against English sides, with the Brazilian scoring two apiece against Chelsea and Manchester City.    Rodrygo and Vinicius link up on the left-hand side of the area, with the former escaping a challenge to tee up Benzema just six yards out. Gallagher shows good strength to hold off Carvajal and tee up Fernandez, who sees a dipping, left-footed shot parried by Courtois!   \",\n",
       " \" FULL-TIME: CHELSEA 0-2 REAL MADRID   Valverde sweeps a pass out to Ceballos, who cuts inside and shoots straight at Kepa from the edge of the area. Valverde and Vinicius are enjoying themselves now, capitalising on James' loose pass in midfield to launch a flowing move, which only ends when Silva steps in inside his own area.    The Blues have failed to garner any momentum since Rodrygo's goal, and Madrid have actually looked the more likely scorers on the break.   \"]"
      ]
     },
     "execution_count": 24,
     "metadata": {},
     "output_type": "execute_result"
    }
   ],
   "source": [
    "# SpaCy approach 1\n",
    "spacy_window_summaries1 = []\n",
    "for comment  in window_comments:\n",
    "    spacy_window_summaries1.append(get_spacy_summary(comment))\n",
    "\n",
    "spacy_window_summaries1"
   ]
  },
  {
   "cell_type": "code",
   "execution_count": 52,
   "metadata": {},
   "outputs": [
    {
     "data": {
      "text/plain": [
       "\"A rare loose ball from Modric gives Chelsea the chance to put Madrid under pressure, but Kante is crowded out near the edge of the area and Madrid survive. Chelsea continue to press as James' cross runs all the way through to Kovacic on the edge of the area, only for Militao to block his shot at close quarters. Chelsea have progressed from five of their last seven Champions League ties when losing the first leg away from home, and they have also qualified from their last two ties when losing the opener by two clear goals (vs Napoli in 2011-12 and Paris Saint-Germain in 2013-14). Militao's yellow card means he will miss the first leg of any semi-final tie through suspension, if Madrid make it…   Militao appears to be in some discomfort following that challenge on Gallagher, having kicked the bottom of the Chelsea man's boot as he flew in at a dangerous height. Rodrygo finds space on the right-hand side of the area after linking up with Carvajal, and the Brazilian youngster opts to go for goal after shifting the ball to his right foot. The Madrid man is booked as Chelsea get a free-kick in a dangerous position, with Fernandez set to deliver.    Kovacic dances through midfield and tees up James on the right, allowing him to pick out his opposite wing-back Cucurella with a terrific low cross. So much of Chelsea's attacking play has come down that flank, but wing-back James appeared to be limping a moment ago, which will be a big concern for Lampard.    Havertz flicks the corner on, but Gallagher can't reach the loose ball and it drops harmlessly wide of Courtois' right-hand post.    Rodrygo is the target of a clever free-kick into the right-hand channel, but Chalobah and Silva combine to crowd the Brazilian out and win possession for Chelsea.    Chelsea are baying for a second yellow card for Militao as the Brazilian clips Chalobah on the left flank! Madrid make a half-time substitution as former Chelsea favourite Rudiger enters the fray. Following his opener in this game, all four of Rodrygo's Champions League knockout-stage goals have come against English sides, with the Brazilian scoring two apiece against Chelsea and Manchester City.    Rodrygo and Vinicius link up on the left-hand side of the area, with the former escaping a challenge to tee up Benzema just six yards out. Gallagher shows good strength to hold off Carvajal and tee up Fernandez, who sees a dipping, left-footed shot parried by Courtois!     FULL-TIME: CHELSEA 0-2 REAL MADRID   Valverde sweeps a pass out to Ceballos, who cuts inside and shoots straight at Kepa from the edge of the area. Valverde and Vinicius are enjoying themselves now, capitalising on James' loose pass in midfield to launch a flowing move, which only ends when Silva steps in inside his own area.    The Blues have failed to garner any momentum since Rodrygo's goal, and Madrid have actually looked the more likely scorers on the break.   \""
      ]
     },
     "execution_count": 52,
     "metadata": {},
     "output_type": "execute_result"
    }
   ],
   "source": [
    "spacy_time_window1 = []\n",
    "for i in range(len(spacy_window_summaries1)):\n",
    "    spacy_time_window1.append(timer_list[i] + ' ' +  spacy_window_summaries1[i])\n",
    "\n",
    "spacy_window_summ1 = \" \".join(spacy_window_summaries1)\n",
    "spacy_window_summ1"
   ]
  },
  {
   "cell_type": "code",
   "execution_count": 78,
   "metadata": {},
   "outputs": [
    {
     "data": {
      "text/plain": [
       "\"A rare loose ball from Modric gives Chelsea the chance to put Madrid under pressure, but Kante is crowded out near the edge of the area and Madrid survive. Chelsea continue to press as James' cross runs all the way through to Kovacic on the edge of the area, only for Militao to block his shot at close quarters. Cucurella is on hand to intercept a slack ball from Valverde in midfield, and Chelsea can look to build an attack. Militao's yellow card means he will miss the first leg of any semi-final tie through suspension, if Madrid make it…   Militao appears to be in some discomfort following that challenge on Gallagher, having kicked the bottom of the Chelsea man's boot as he flew in at a dangerous height. A flowing Madrid move involving Benzema and Rodrygo sees Vinicius released into the left-hand channel, and the Brazilian cuts inside to shoot straight at Kepa. Rodrygo finds space on the right-hand side of the area after linking up with Carvajal, and the Brazilian youngster opts to go for goal after shifting the ball to his right foot. James works some space to hit a low cross into the six-yard box, but Alaba slides in to divert it away from the danger zone! Kovacic dances through midfield and tees up James on the right, allowing him to pick out his opposite wing-back Cucurella with a terrific low cross. Vinicius looks to play a give-and-go with Modric, but the Croatian plays an uncharacteristically poor pass straight to James. Vinicius gets the assist for Rodrygo's goal, staying cool under pressure at the far post to pick out his opposite winger, who makes no mistake from close range!   GOAAAAAAAL! Havertz sees a right-wing cross acrobatically headed away by Rudiger, but Gallagher nods the ball back into the danger zone. Chelsea are furious as Vinicius goes down under minimal pressure from Fofana, with the referee blowing for a free-kick. Chelsea appeal for a penalty as Havertz spins Modric inside the area and goes down. With the Brazilian set to shoot, Mudryk dashes back to make a fine challenge, preventing further damage for the hosts. James sees a low shot from outside the area hit Militao and deflect wide for a corner. A splendid move sees Vinicius dart onto Rudiger's ball in behind and cut back for Valverde on the edge of the area. Though Chelsea missed a couple of clear chances at 0-0, Madrid's backline has stood firm for the majority of this game. Mudryk picks up a late booking for a frustrated lunge on Modric in midfield.\""
      ]
     },
     "execution_count": 78,
     "metadata": {},
     "output_type": "execute_result"
    }
   ],
   "source": [
    "# SpaCy approach 2\n",
    "spacy_window_summaries2 = []\n",
    "for comment  in window_comments:\n",
    "    spacy_window_summaries2.append(summarize_text_spacy(comment))\n",
    "\n",
    "# spacy_time_window2 = []\n",
    "# for i in range(len(spacy_window_summaries2)):\n",
    "#     spacy_time_window2.append(timer_list[i] + ' ' +  spacy_window_summaries2[i])\n",
    "\n",
    "spacy_window_summ2 = \" \".join(spacy_window_summaries2)\n",
    "spacy_window_summ2"
   ]
  },
  {
   "cell_type": "markdown",
   "metadata": {},
   "source": [
    "## Using nltk"
   ]
  },
  {
   "cell_type": "code",
   "execution_count": 79,
   "metadata": {},
   "outputs": [
    {
     "data": {
      "text/plain": [
       "\"A rare loose ball from Modric gives Chelsea the chance to put Madrid under pressure, but Kante is crowded out near the edge of the area and Madrid survive. Cucurella is on hand to intercept a slack ball from Valverde in midfield, and Chelsea can look to build an attack. Havertz looks to get Chelsea on the front foot straight away, winning a throw-in high on the left. Lampard's side have a spare man inside the Madrid area as Cucurella breaks down the left, but his delivery is overhit and it bypasses everyone. A flowing Madrid move involving Benzema and Rodrygo sees Vinicius released into the left-hand channel, and the Brazilian cuts inside to shoot straight at Kepa. The Madrid man is booked as Chelsea get a free-kick in a dangerous position, with Fernandez set to deliver.  HALF-TIME: CHELSEA 0-0 REAL MADRID   HUGE SAVE FROM COURTOIS! So much of Chelsea's attacking play has come down that flank, but wing-back James appeared to be limping a moment ago, which will be a big concern for Lampard. Cucurella becomes the first Chelsea player booked, having cynically tripped Rodrygo as the Brazilian looked to scamper through midfield. Chelsea are baying for a second yellow card for Militao as the Brazilian clips Chalobah on the left flank! Rodrygo is the target of a clever free-kick into the right-hand channel, but Chalobah and Silva combine to crowd the Brazilian out and win possession for Chelsea. Madrid make a half-time substitution as former Chelsea favourite Rudiger enters the fray. Chelsea look to be in trouble as Chalobah misjudges a ball in behind, allowing Vinicius to run clear. Rodrygo and Vinicius link up on the left-hand side of the area, with the former escaping a challenge to tee up Benzema just six yards out. The Brazil winger did brilliantly to break in behind, but Chalobah must take responsibility for his failure to cut out Militao's pass.  FULL-TIME: CHELSEA 0-2 REAL MADRID   Valverde sweeps a pass out to Ceballos, who cuts inside and shoots straight at Kepa from the edge of the area. Though Chelsea missed a couple of clear chances at 0-0, Madrid's backline has stood firm for the majority of this game. The Blues have failed to garner any momentum since Rodrygo's goal, and Madrid have actually looked the more likely scorers on the break.\""
      ]
     },
     "execution_count": 79,
     "metadata": {},
     "output_type": "execute_result"
    }
   ],
   "source": [
    "nltk_window_summaries = []\n",
    "for comment  in window_comments:\n",
    "    nltk_window_summaries.append(summarize_text_nltk(comment))\n",
    "\n",
    "# nltk_time_window = []\n",
    "# for i in range(len(nltk_window_summaries)):\n",
    "#     nltk_time_window.append(timer_list[i] + ' ' +  nltk_window_summaries[i])\n",
    "\n",
    "nltk_window_summ = \" \".join(nltk_window_summaries)\n",
    "nltk_window_summ"
   ]
  },
  {
   "cell_type": "markdown",
   "metadata": {},
   "source": [
    "## Using GPT-3"
   ]
  },
  {
   "cell_type": "code",
   "execution_count": 87,
   "metadata": {},
   "outputs": [
    {
     "data": {
      "text/plain": [
       "\" Vinicius tracks back to battle with James, winning a goal-kick for his team. Chelsea are looking to find their right wing-back at every opportunity, and they are causing Madrid problems early on.   Handball! Chalobah steps into midfield and releases Havertz in behind, with the German reaching the byline. He stands up a decent cross towards James, but the referee penalises the Chelsea man as he attempts to control it inside the area.   Chelsea continue to press as James' cross runs all the way through to Kovacic on the edge of the area, only for Militao to block his shot at close quarters. This is a decent spell for the hosts!   WIDE! What a chance for Chelsea! Havertz battles for a cross and the ball drops to Kante 12 yards from goal, completely unmarked. The midfielder swings his left foot at the ball, but he completely scuffs his volley and it bounces wide. That's a real let-off for Madrid!   A rare loose ball from Modric gives Chelsea the chance to put Madrid under pressure, but Kante is crowded out near the edge of the area and Madrid survive. The hosts are at least pressing high when Madrid have possession in their own half, causing the European champions some difficulties.   Chelsea have progressed from five of their last seven Champions League ties when losing the first leg away from home, and they have also qualified from their last two ties when losing the opener by two clear goals (vs Napoli in 2011-12 and Paris Saint-Germain in 2013-14). If they can complete a comeback in this tie, it would surely top those past achievements.   Vinicius gets his first chance to run at Fofana, but the Brazilian overhits his cross after cutting inside and it floats harmlessly behind.   Havertz is playing a lone striking role for Chelsea early on, with Kante and Gallagher pushing higher than Kovacic and Fernandez in midfield. Madrid have lined up in their usual 4-3-3 shape, looking to make the pitch wide and dominate possession.   Kante steals possession from Benzema, but Madrid quickly get it back as Carvajal wins a throw. It's been a fast start here as both teams battle for the ball in midfield.   Cucurella is on hand to intercept a slack ball from Valverde in midfield, and Chelsea can look to build an attack.   Havertz looks to get Chelsea on the front foot straight away, winning a throw-in high on the left. You feel the Blues must score first to have any chance of launching a comeback.   A somewhat bizarre moment before kick-off as the players line up… only for the Champions League anthem to not be played! Stamford Bridge is rocking as Gallagher gets us under way! \""
      ]
     },
     "execution_count": 87,
     "metadata": {},
     "output_type": "execute_result"
    }
   ],
   "source": [
    "window_comments[0]"
   ]
  },
  {
   "cell_type": "code",
   "execution_count": 99,
   "metadata": {},
   "outputs": [
    {
     "data": {
      "text/plain": [
       "\"  Chelsea get the game underway, and they will be looking to overturn a 2-0 deficit in the second leg of this last-16 tie.   The teams are in the tunnel and ready to come out onto the pitch!   The players are out and ready for action, but there's a delay as the Champions League anthem is not played!   The teams are in the tunnel and ready to come out onto the pitch!   The players are out and ready to come out onto the pitch!   The teams are in the tunnel and ready to come out onto the pitch!   The players are out and ready to come out onto the pitch!   The teams are in the tunnel and ready to come out onto the pitch!   The players are out and ready to come out onto the pitch!   The teams are in the tunnel and ready to come out onto the pitch!   The players are out and ready to come out onto the pitch!   Chelsea are on the front foot early on, with Kovacic's deep cross from the right finding Benzema in the middle. The Frenchman's header is straight at Kepa, though, and the goalkeeper is able to collect.   We're under way at Stamford Bridge!   The teams are out and we're just moments away from kick-off!   Madrid's starting XI: Courtois, Carvajal, Ramos, Varane, Reguilon, Kovacic, Ceballos, Rodrygo, Vinicius, Benzema, Bale.   Chelsea's starting XI: Kepa, Azpilicueta, Christensen, Militao, Zouma, Jorginho, Kovacic, Barkley, Hazard, Willian, Giroud.   The teams are in the tunnel and we're just moments away from kick-off!   The teams are in the tunnel and we're just moments   That's a big chance for Madrid! Vinicius breaks in behind the defence and looks to square for Benzema, but the Frenchman's first touch is poor and the ball runs away from him. The Brazilian is then caught in two minds, and Courtois is able to collect.   Vinicius is causing Chelsea all sorts of problems down the left. He's just cut inside and fired a shot towards the near post, but Kepa was equal to it.   Kante is booked for a late challenge on Rodrygo, who was looking to burst into the box.   CHANCE! Vinicius is played in by Modric and looks to square for Benzema, but the Frenchman's first touch is poor and the ball runs away from him. The Brazilian is then caught in two minds, and Courtois is able to collect.   Vinicius is causing Chelsea all sorts of problems down the left. He's just cut inside and   The second half gets under way!   A reminder that the second leg of this tie will take place at the Santiago Bernabeu on Wednesday, April 10.   The players are back out at Stamford Bridge, and we are ready for the second half.   The players are back out at Stamford Bridge, and we are ready for the second half.   The players are back out at Stamford Bridge, and we are ready for the second half.   The players are back out at Stamford Bridge, and we are ready for the second half.   The players are back out at Stamford Bridge, and we are ready for the second half.   The players are back out at Stamford Bridge, and we are ready for the second half.   The players are back out at Stamford Bridge, and we are ready for the second half.   The players are back out at Stamford Bridge, and we are ready for the second half.   The players are back   Rodrygo has scored in each of his last three Champions League appearances, with the Brazilian netting twice against Chelsea and once against Manchester City.   Rodrygo has scored in each of his last three Champions League appearances, with the Brazilian netting twice against Chelsea and once against Manchester City.   Rodrygo has scored in each of his last three Champions League appearances, with the Brazilian netting twice against Chelsea and once against Manchester City.   Rodrygo has scored in each of his last three Champions League appearances, with the Brazilian netting twice against Chelsea and once against Manchester City.   Rodrygo has scored in each of his last three Champions League appearances, with the Brazilian netting twice against Chelsea and once against Manchester City.   Rodrygo has scored in each of his last three Champions League appearances, with the Brazilian netting twice against Chelsea and once against Manchester City.   Rodrygo has scored in each of his last three Champions League   Madrid are in control of this game now, and they are looking to get a third goal to kill off this tie.   The visitors are looking to make the most of their numerical advantage, and they are enjoying plenty of possession in the final third.   Madrid have a free-kick in a dangerous position, but Vinicius' delivery is poor and Kepa gathers easily.   There is a change for the hosts, with Mount coming on for Boga.   Real Madrid break quickly after a Chelsea attack breaks down, and Vinicius is denied by a good block from Rudiger. The Brazilian has been in the thick of the action at Stamford Bridge.   The visitors are still enjoying plenty of possession, but they are not creating any clear-cut chances.   The game has slowed down a little, with both sides happy to keep possession in midfield.   Chelsea are struggling to get out of their own half at the moment, with Madrid in\""
      ]
     },
     "execution_count": 99,
     "metadata": {},
     "output_type": "execute_result"
    }
   ],
   "source": [
    "gpt_window_summaries = []\n",
    "for comment  in window_comments:\n",
    "    gpt_summ = summarize_text_gpt(comment)\n",
    "    gpt_window_summaries.append(gpt_summ)\n",
    "\n",
    "gpt_window_summ = \" \".join(gpt_window_summaries)\n",
    "gpt_window_summ"
   ]
  },
  {
   "cell_type": "markdown",
   "metadata": {},
   "source": [
    "# Get full time summary from comment description"
   ]
  },
  {
   "cell_type": "code",
   "execution_count": 57,
   "metadata": {},
   "outputs": [
    {
     "data": {
      "text/plain": [
       "\" We hope you have enjoyed our live coverage of yet another European win for Real Madrid. It's goodbye for now, and we'll see you next time!   While Madrid's Champions League defence continues apace, Chelsea have lost four successive matches since Frank Lampard returned to the club as interim boss. The Blues will now endure just their second trophyless season in the last seven campaigns, and with 17 points separating them from the Premier League's top four, it could be some time before Stamford Bridge hosts another Champions League fixture!   It's all over at Stamford Bridge, and it's another 2-0 win over Chelsea for Real Madrid – Los Blancos take the quarter-final tie 4-0 on aggregate! Chelsea performed admirably for long periods as Cucurella and Kante missed great chances to cut Madrid's lead, but they could not find a response when Rodrygo hammered Vinicius' cut-back in from close range after 58 minutes. A flowing move involving Valverde led to Rodrygo getting a second with 10 minutes remaining, and Madrid look like they have plenty more to offer as they approach a semi-final tie against Manchester City or Bayern Munich! \""
      ]
     },
     "execution_count": 57,
     "metadata": {},
     "output_type": "execute_result"
    }
   ],
   "source": [
    "ft_comm = temp_df[temp_df['comment_desc'] == 'full time summary']['comment']\n",
    "full_time_summary = \" \".join(ft_comm)\n",
    "full_time_summary"
   ]
  },
  {
   "cell_type": "markdown",
   "metadata": {},
   "source": [
    "# Using BLEU score for checking similarity"
   ]
  },
  {
   "cell_type": "code",
   "execution_count": 58,
   "metadata": {},
   "outputs": [],
   "source": [
    "# def calc_bleu(ft_summary, my_summary):\n",
    "#     return bleu([ft_summary.split()], my_summary.split())"
   ]
  },
  {
   "cell_type": "markdown",
   "metadata": {},
   "source": [
    "# Using cosine-similarity for comparison"
   ]
  },
  {
   "cell_type": "code",
   "execution_count": 68,
   "metadata": {},
   "outputs": [],
   "source": [
    "# Using CountVectorizer()\n",
    "def calc_cos_sim_count_vec(ft_summary, my_summary):\n",
    "    corpus = [ft_summary, my_summary]\n",
    "    # Create the Document Term Matrix\n",
    "    count_vectorizer = CountVectorizer()\n",
    "    sparse_matrix = count_vectorizer.fit_transform(corpus)\n",
    "\n",
    "    # OPTIONAL: Convert Sparse Matrix to Pandas Dataframe if you want to see the word frequencies.\n",
    "    doc_term_matrix = sparse_matrix.todense()\n",
    "    df = pd.DataFrame(doc_term_matrix, \n",
    "                    columns=count_vectorizer.vocabulary_.keys(), \n",
    "                    index=['ft_summary_org','ft_summary_crtd'])\n",
    "    \n",
    "    # Compute Cosine Similarity\n",
    "    return cosine_similarity(df[0:1], df)"
   ]
  },
  {
   "cell_type": "code",
   "execution_count": 101,
   "metadata": {},
   "outputs": [],
   "source": [
    "# # Using TF-IDF\n",
    "# def calc_cos_sim_tfidf(ft_summary, my_summary):\n",
    "#     corpus = [ft_summary, my_summary]\n",
    "#     vectorizer = TfidfVectorizer()\n",
    "#     trsfm=vectorizer.fit_transform(corpus)\n",
    "\n",
    "#     # OPTIONAL: Convert Sparse Matrix to Pandas Dataframe if you want to see the word frequencies.\n",
    "#     doc_term_matrix = trsfm.todense()\n",
    "#     trsfm_df = pd.DataFrame(doc_term_matrix,\n",
    "#                             columns=vectorizer.vocabulary_.keys(),\n",
    "#                             index=['ft_summary_org','ft_summary_crtd'])\n",
    "\n",
    "#     return cosine_similarity(trsfm[0:1], trsfm)"
   ]
  },
  {
   "cell_type": "code",
   "execution_count": 70,
   "metadata": {},
   "outputs": [
    {
     "data": {
      "text/plain": [
       "array([[1.        , 0.56385736]])"
      ]
     },
     "execution_count": 70,
     "metadata": {},
     "output_type": "execute_result"
    }
   ],
   "source": [
    "calc_cos_sim_count_vec(full_time_summary, spacy_window_summ1)"
   ]
  },
  {
   "cell_type": "code",
   "execution_count": 71,
   "metadata": {},
   "outputs": [
    {
     "data": {
      "text/plain": [
       "array([[1.        , 0.51980393]])"
      ]
     },
     "execution_count": 71,
     "metadata": {},
     "output_type": "execute_result"
    }
   ],
   "source": [
    "calc_cos_sim_count_vec(full_time_summary, spacy_window_summ2)"
   ]
  },
  {
   "cell_type": "code",
   "execution_count": 72,
   "metadata": {},
   "outputs": [
    {
     "data": {
      "text/plain": [
       "array([[1.        , 0.56570489]])"
      ]
     },
     "execution_count": 72,
     "metadata": {},
     "output_type": "execute_result"
    }
   ],
   "source": [
    "calc_cos_sim_count_vec(full_time_summary, nltk_window_summ)"
   ]
  },
  {
   "cell_type": "code",
   "execution_count": 100,
   "metadata": {},
   "outputs": [
    {
     "data": {
      "text/plain": [
       "array([[1.        , 0.50421883]])"
      ]
     },
     "execution_count": 100,
     "metadata": {},
     "output_type": "execute_result"
    }
   ],
   "source": [
    "calc_cos_sim_count_vec(full_time_summary, gpt_window_summ)"
   ]
  }
 ],
 "metadata": {
  "kernelspec": {
   "display_name": "Python 3.10.8 ('anly521')",
   "language": "python",
   "name": "python3"
  },
  "language_info": {
   "codemirror_mode": {
    "name": "ipython",
    "version": 3
   },
   "file_extension": ".py",
   "mimetype": "text/x-python",
   "name": "python",
   "nbconvert_exporter": "python",
   "pygments_lexer": "ipython3",
   "version": "3.10.11"
  },
  "orig_nbformat": 4,
  "vscode": {
   "interpreter": {
    "hash": "045993bec6224f6bf157e7265b027fdb84d23efb85222067a0580c561b3b8fe4"
   }
  }
 },
 "nbformat": 4,
 "nbformat_minor": 2
}
