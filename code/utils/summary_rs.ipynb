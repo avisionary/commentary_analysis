{
 "cells": [
  {
   "cell_type": "code",
   "execution_count": 511,
   "metadata": {},
   "outputs": [
    {
     "name": "stderr",
     "output_type": "stream",
     "text": [
      "[nltk_data] Downloading package stopwords to\n",
      "[nltk_data]     /Users/raghavsharma/nltk_data...\n",
      "[nltk_data]   Package stopwords is already up-to-date!\n",
      "[nltk_data] Downloading package wordnet to\n",
      "[nltk_data]     /Users/raghavsharma/nltk_data...\n",
      "[nltk_data]   Package wordnet is already up-to-date!\n",
      "[nltk_data] Downloading package omw-1.4 to\n",
      "[nltk_data]     /Users/raghavsharma/nltk_data...\n",
      "[nltk_data]   Package omw-1.4 is already up-to-date!\n"
     ]
    }
   ],
   "source": [
    "import pandas as pd\n",
    "import numpy as np\n",
    "\n",
    "import re\n",
    "import string\n",
    "\n",
    "import nltk\n",
    "from nltk.corpus import stopwords\n",
    "from nltk.tokenize import word_tokenize, sent_tokenize\n",
    "from nltk.stem import PorterStemmer\n",
    "from nltk.translate import bleu\n",
    "nltk.download('stopwords')\n",
    "nltk.download('wordnet')\n",
    "nltk.download('omw-1.4')\n",
    "\n",
    "import spacy\n",
    "from spacy.lang.en.stop_words import STOP_WORDS\n",
    "from string import punctuation\n",
    "from collections import Counter\n",
    "from heapq import nlargest\n",
    "\n",
    "import openai\n",
    "\n",
    "from sklearn.feature_extraction.text import CountVectorizer\n",
    "from sklearn.feature_extraction.text import TfidfVectorizer\n",
    "from sklearn.metrics.pairwise import cosine_similarity\n",
    "\n",
    "import warnings\n",
    "warnings.filterwarnings('ignore')"
   ]
  },
  {
   "cell_type": "code",
   "execution_count": 512,
   "metadata": {},
   "outputs": [
    {
     "data": {
      "text/html": [
       "<div>\n",
       "<style scoped>\n",
       "    .dataframe tbody tr th:only-of-type {\n",
       "        vertical-align: middle;\n",
       "    }\n",
       "\n",
       "    .dataframe tbody tr th {\n",
       "        vertical-align: top;\n",
       "    }\n",
       "\n",
       "    .dataframe thead th {\n",
       "        text-align: right;\n",
       "    }\n",
       "</style>\n",
       "<table border=\"1\" class=\"dataframe\">\n",
       "  <thead>\n",
       "    <tr style=\"text-align: right;\">\n",
       "      <th></th>\n",
       "      <th>time</th>\n",
       "      <th>comment</th>\n",
       "      <th>event</th>\n",
       "      <th>event_player</th>\n",
       "      <th>event_team</th>\n",
       "      <th>comment_desc</th>\n",
       "    </tr>\n",
       "  </thead>\n",
       "  <tbody>\n",
       "    <tr>\n",
       "      <th>0</th>\n",
       "      <td>NaN</td>\n",
       "      <td>We hope you have enjoyed our live coverage of...</td>\n",
       "      <td>NaN</td>\n",
       "      <td>NaN</td>\n",
       "      <td>NaN</td>\n",
       "      <td>full time summary</td>\n",
       "    </tr>\n",
       "    <tr>\n",
       "      <th>1</th>\n",
       "      <td>NaN</td>\n",
       "      <td>While Madrid's Champions League defence conti...</td>\n",
       "      <td>NaN</td>\n",
       "      <td>NaN</td>\n",
       "      <td>NaN</td>\n",
       "      <td>full time summary</td>\n",
       "    </tr>\n",
       "    <tr>\n",
       "      <th>2</th>\n",
       "      <td>NaN</td>\n",
       "      <td>It's all over at Stamford Bridge, and it's an...</td>\n",
       "      <td>NaN</td>\n",
       "      <td>NaN</td>\n",
       "      <td>NaN</td>\n",
       "      <td>full time summary</td>\n",
       "    </tr>\n",
       "    <tr>\n",
       "      <th>3</th>\n",
       "      <td>90 + 3</td>\n",
       "      <td>FULL-TIME: CHELSEA 0-2 REAL MADRID</td>\n",
       "      <td>NaN</td>\n",
       "      <td>NaN</td>\n",
       "      <td>NaN</td>\n",
       "      <td>timer</td>\n",
       "    </tr>\n",
       "    <tr>\n",
       "      <th>4</th>\n",
       "      <td>90 + 3</td>\n",
       "      <td>Valverde sweeps a pass out to Ceballos, who c...</td>\n",
       "      <td>NaN</td>\n",
       "      <td>NaN</td>\n",
       "      <td>NaN</td>\n",
       "      <td>timer</td>\n",
       "    </tr>\n",
       "  </tbody>\n",
       "</table>\n",
       "</div>"
      ],
      "text/plain": [
       "     time                                            comment event  \\\n",
       "0     NaN   We hope you have enjoyed our live coverage of...   NaN   \n",
       "1     NaN   While Madrid's Champions League defence conti...   NaN   \n",
       "2     NaN   It's all over at Stamford Bridge, and it's an...   NaN   \n",
       "3  90 + 3                FULL-TIME: CHELSEA 0-2 REAL MADRID    NaN   \n",
       "4  90 + 3   Valverde sweeps a pass out to Ceballos, who c...   NaN   \n",
       "\n",
       "  event_player event_team       comment_desc  \n",
       "0          NaN        NaN  full time summary  \n",
       "1          NaN        NaN  full time summary  \n",
       "2          NaN        NaN  full time summary  \n",
       "3          NaN        NaN              timer  \n",
       "4          NaN        NaN              timer  "
      ]
     },
     "execution_count": 512,
     "metadata": {},
     "output_type": "execute_result"
    }
   ],
   "source": [
    "temp_df = pd.read_csv('../../data/temp_data.csv')\n",
    "temp_df.head()"
   ]
  },
  {
   "cell_type": "markdown",
   "metadata": {},
   "source": [
    "# Cleaning the data"
   ]
  },
  {
   "cell_type": "code",
   "execution_count": 513,
   "metadata": {},
   "outputs": [],
   "source": [
    "def remove_punct(text):\n",
    "    \"\"\" A method to remove punctuations from text \"\"\"\n",
    "    text  = \"\".join([char for char in text if char not in string.punctuation])\n",
    "    text = re.sub('[0-9]+', '', text) #removes numbers from text\n",
    "    return text"
   ]
  },
  {
   "cell_type": "code",
   "execution_count": 514,
   "metadata": {},
   "outputs": [],
   "source": [
    "def remove_stopwords(text):\n",
    "    \"\"\" A method to remove all the stopwords \"\"\"\n",
    "    stopwords = nltk.corpus.stopwords.words('english')\n",
    "    text = [word for word in text if word not in stopwords]\n",
    "    return text"
   ]
  },
  {
   "cell_type": "code",
   "execution_count": 515,
   "metadata": {},
   "outputs": [],
   "source": [
    "def tokenization(text):\n",
    "    \"\"\" A method to tokenize text data \"\"\"\n",
    "    text = re.split('\\W+', text) #splitting each sentence/ tweet into its individual words\n",
    "    return text"
   ]
  },
  {
   "cell_type": "code",
   "execution_count": 516,
   "metadata": {},
   "outputs": [],
   "source": [
    "def stemming(text):\n",
    "    \"\"\" A method to perform stemming on text data\"\"\"\n",
    "    porter_stem = nltk.PorterStemmer()\n",
    "    text = [porter_stem.stem(word) for word in text]\n",
    "    return text"
   ]
  },
  {
   "cell_type": "code",
   "execution_count": 517,
   "metadata": {},
   "outputs": [],
   "source": [
    "def lemmatizer(text):\n",
    "    word_net_lemma = nltk.WordNetLemmatizer()\n",
    "    text = [word_net_lemma.lemmatize(word) for word in text]\n",
    "    return text"
   ]
  },
  {
   "cell_type": "code",
   "execution_count": 518,
   "metadata": {},
   "outputs": [],
   "source": [
    "# Making a common cleaning function for every part below for code reproducability\n",
    "def clean_text(list_words):\n",
    "    # Making a regex pattern to match in the characters we would like to replace from the words\n",
    "    character_replace = \",()0123456789.?!@#$%&;*:_,/\" \n",
    "    pattern = \"[\" + character_replace + \"]\"\n",
    "    # ------------------------------------------------------------------------------------\n",
    "\n",
    "    # ------------------------------------------------------------------------------------\n",
    "    new_list_words = []\n",
    "    # Looping through every word to remove the characters and appending back to a new list\n",
    "    # replace is being used for the characters that could not be catched through regex\n",
    "    for s in list_words:\n",
    "        new_word = s.lower()\n",
    "        new_word = re.sub(pattern,\"\",new_word)\n",
    "        new_word = new_word.replace('[', '')\n",
    "        new_word = new_word.replace(']', '')\n",
    "        new_word = new_word.replace('-', '')\n",
    "        new_word = new_word.replace('—', '')\n",
    "        new_word = new_word.replace('“', '')\n",
    "        new_word = new_word.replace(\"’\", '')\n",
    "        new_word = new_word.replace(\"”\", '')\n",
    "        new_word = new_word.replace(\"‘\", '')\n",
    "        new_word = new_word.replace('\"', '')\n",
    "        new_word = new_word.replace(\"'\", '')\n",
    "        new_word = new_word.replace(\" \", '')\n",
    "        new_list_words.append(new_word)\n",
    "\n",
    "    # Using filter to remove empty strings\n",
    "    new_list_words = list(filter(None, new_list_words))\n",
    "    return new_list_words"
   ]
  },
  {
   "cell_type": "code",
   "execution_count": 519,
   "metadata": {},
   "outputs": [],
   "source": [
    "def clean(df, text_col):\n",
    "    \"\"\" A method to do basic data cleaning \"\"\"\n",
    "    \n",
    "    clean_data = df.copy()\n",
    "    \n",
    "    clean_data['clean_text']=clean_data[text_col].apply(lambda x: remove_punct(x))\n",
    "    \n",
    "    clean_data['text_tokenized'] = clean_data['clean_text'].apply(lambda x: tokenization(x.lower()))\n",
    "    \n",
    "    stopwords = nltk.corpus.stopwords.words('english')\n",
    "    \n",
    "    clean_data['text_without_stop'] = clean_data['text_tokenized'].apply(lambda x: remove_stopwords(x))    \n",
    "    \n",
    "    clean_data['text_stemmed'] = clean_data['text_without_stop'].apply(lambda x: stemming(x))\n",
    "        \n",
    "    clean_data['text_lemmatized'] = clean_data['text_without_stop'].apply(lambda x: lemmatizer(x))\n",
    "\n",
    "    clean_data['text_final'] = clean_data['text_lemmatized'].apply(lambda x: clean_text(x))\n",
    "    \n",
    "    return clean_data"
   ]
  },
  {
   "cell_type": "code",
   "execution_count": 520,
   "metadata": {},
   "outputs": [],
   "source": [
    "def clean(corpus):\n",
    "    \"\"\" A method to do basic data cleaning \"\"\"\n",
    "    clean_data = pd.DataFrame(columns=['ini_text', 'clean_text', 'text_tokenized', 'text_without_stop', \n",
    "                                       'text_stemmed', 'text_lemmatized', 'text_final'])\n",
    "\n",
    "    clean_data['ini_text'] = [corpus]\n",
    "\n",
    "    clean_data['clean_text']=clean_data['ini_text'].apply(lambda x: remove_punct(x))\n",
    "    \n",
    "    clean_data['text_tokenized'] = clean_data['clean_text'].apply(lambda x: tokenization(x.lower()))\n",
    "    \n",
    "    stopwords = set(nltk.corpus.stopwords.words('english'))\n",
    "    \n",
    "    clean_data['text_without_stop'] = clean_data['text_tokenized'].apply(lambda x: remove_stopwords(x))    \n",
    "    \n",
    "    clean_data['text_stemmed'] = clean_data['text_without_stop'].apply(lambda x: stemming(x))\n",
    "        \n",
    "    clean_data['text_lemmatized'] = clean_data['text_without_stop'].apply(lambda x: lemmatizer(x))\n",
    "\n",
    "    clean_data['text_final'] = clean_data['text_lemmatized'].apply(lambda x: clean_text(x))\n",
    "    \n",
    "    return clean_data"
   ]
  },
  {
   "cell_type": "markdown",
   "metadata": {},
   "source": [
    "# Concat the live ticker for 'timer'"
   ]
  },
  {
   "cell_type": "code",
   "execution_count": 521,
   "metadata": {},
   "outputs": [],
   "source": [
    "comment = ''\n",
    "for comm in temp_df[temp_df['comment_desc'] == 'timer']['comment']:\n",
    "    comment += comm"
   ]
  },
  {
   "cell_type": "markdown",
   "metadata": {},
   "source": [
    "# Using SpaCy to summarize the text"
   ]
  },
  {
   "cell_type": "markdown",
   "metadata": {},
   "source": [
    "## Approach 1"
   ]
  },
  {
   "cell_type": "code",
   "execution_count": 557,
   "metadata": {},
   "outputs": [],
   "source": [
    "nlp = spacy.load(\"en_core_web_sm\")\n",
    "\n",
    "def get_spacy_summary(text):\n",
    "    doc = nlp(text)\n",
    "    keyword = []\n",
    "    stopwords = list(STOP_WORDS)\n",
    "    pos_tag = ['PROPN', 'ADJ', 'NOUN', 'VERB']\n",
    "    for token in doc:\n",
    "        if (token.text in stopwords or token.text in punctuation):\n",
    "            continue\n",
    "        if token.pos_ in pos_tag:\n",
    "            keyword.append(token.text)\n",
    "    \n",
    "    if len(keyword) != 0:\n",
    "        freq_word = Counter(keyword)\n",
    "        max_freq = Counter(keyword).most_common(1)[0][1]\n",
    "        for word in freq_word.keys():\n",
    "            freq_word[word] = (freq_word[word]/max_freq)\n",
    "\n",
    "        sent_strenght = {}\n",
    "        for sent in doc.sents:\n",
    "            for word in sent:\n",
    "                if word.text in freq_word.keys():\n",
    "                    if sent in sent_strenght.keys():\n",
    "                        sent_strenght[sent] += freq_word[word.text]\n",
    "                    else:\n",
    "                        sent_strenght[sent] = freq_word[word.text]\n",
    "\n",
    "        summarized_sentences = nlargest(3, sent_strenght, key=sent_strenght.get)\n",
    "        final_sentences = [w.text for w in summarized_sentences]\n",
    "        return \" \".join(final_sentences)\n",
    "    else:\n",
    "        return ''"
   ]
  },
  {
   "cell_type": "markdown",
   "metadata": {},
   "source": [
    "## Approach 2"
   ]
  },
  {
   "cell_type": "code",
   "execution_count": 523,
   "metadata": {},
   "outputs": [],
   "source": [
    "def summarize_text_spacy(text, num_sentences=3):\n",
    "    doc = nlp(text)\n",
    "    sentences = [sent for sent in doc.sents]\n",
    "    sentence_scores = {}\n",
    "    for i, sent in enumerate(sentences):\n",
    "        sentence_scores[i] = sent.similarity(doc)\n",
    "    top_sentences = sorted(sentence_scores, key=sentence_scores.get, reverse=True)[:num_sentences]\n",
    "    summary = [sentences[i].text.strip() for i in top_sentences]\n",
    "    return \" \".join(summary)"
   ]
  },
  {
   "cell_type": "markdown",
   "metadata": {},
   "source": [
    "# Using nltk for text summarization"
   ]
  },
  {
   "cell_type": "code",
   "execution_count": 524,
   "metadata": {},
   "outputs": [],
   "source": [
    "def summarize_text_nltk(text, num_sentences=3):\n",
    "    # Tokenize the text into sentences\n",
    "    sentences = sent_tokenize(text)\n",
    "    \n",
    "    # Tokenize the sentences into words and remove stopwords\n",
    "\n",
    "    # stop_words = set(stopwords.words(\"english\"))\n",
    "    \n",
    "    text_punct_removed = remove_punct(text)\n",
    "    words = tokenization(text_punct_removed.lower())\n",
    "    \n",
    "    # words = word_tokenize(text)\n",
    "\n",
    "    # remove stopwords\n",
    "    stop_words =  set(stopwords.words('english'))\n",
    "    filtered_words = [word for word in words if word not in stop_words]\n",
    "    \n",
    "    # Apply stemming to the filtered words\n",
    "    stemmer = PorterStemmer()\n",
    "    stemmed_words = [stemmer.stem(word) for word in filtered_words]\n",
    "\n",
    "    # Lemmatize words\n",
    "    word_net_lemma = nltk.WordNetLemmatizer()\n",
    "    word_lemma = [word_net_lemma.lemmatize(word) for word in stemmed_words]\n",
    "    \n",
    "    # Calculate word frequency and sentence scores\n",
    "    word_freq = nltk.FreqDist(stemmed_words)\n",
    "    sentence_scores = {}\n",
    "    for i, sentence in enumerate(sentences):\n",
    "        for word in nltk.word_tokenize(sentence.lower()):\n",
    "            if word in word_freq:\n",
    "                if len(sentence.split()) < 30:\n",
    "                    if i not in sentence_scores:\n",
    "                        sentence_scores[i] = word_freq[word]\n",
    "                    else:\n",
    "                        sentence_scores[i] += word_freq[word]\n",
    "    \n",
    "    # Select the top sentences based on their scores\n",
    "    summary_sentences = nlargest(num_sentences, sentence_scores, key=sentence_scores.get)\n",
    "    summary = [sentences[i] for i in sorted(summary_sentences)]\n",
    "    return \" \".join(summary)"
   ]
  },
  {
   "cell_type": "markdown",
   "metadata": {},
   "source": [
    "# Using GPT-3"
   ]
  },
  {
   "cell_type": "code",
   "execution_count": 560,
   "metadata": {},
   "outputs": [],
   "source": [
    "def summarize_text_gpt(corpus, org_key, api_key):\n",
    "    openai.organization = org_key\n",
    "    openai.api_key = api_key\n",
    "    engine_list = openai.Engine.list() # calling the engines available from the openai api \n",
    "    \n",
    "\n",
    "    response = openai.Completion.create(engine=\"text-davinci-003\",prompt=corpus,temperature=0.3,\n",
    "            max_tokens=200,\n",
    "            top_p=1,\n",
    "            frequency_penalty=0,\n",
    "            presence_penalty=0,\n",
    "            stop=[\"\\n\"]\n",
    "        )\n",
    "    return response[\"choices\"][0][\"text\"]"
   ]
  },
  {
   "cell_type": "code",
   "execution_count": 562,
   "metadata": {},
   "outputs": [
    {
     "data": {
      "text/plain": [
       "\" FULL-TIME: CHELSEA 0-2 REAL MADRID  Valverde sweeps a pass out to Ceballos, who cuts inside and shoots straight at Kepa from the edge of the area. That should be that for Madrid, and for Chelsea's Champions League campaign.  Camavinga and Valverde team up to deny Sterling a route to the byline. Though Chelsea missed a couple of clear chances at 0-0, Madrid's backline has stood firm for the majority of this game.  We're into three minutes of stoppage time as Felix shoots well over. Real Madrid's fans are in great voice, their defence of the Champions League trophy is set to continue! For Chelsea, a trophyless campaign is about to become reality.  Mudryk picks up a late booking for a frustrated lunge on Modric in midfield.  Now Mudryk bursts through on goal at the other end and smashes into the side-netting, only for the flag to go up. The Ukrainian mistimed his run, but his wayward finish was typical of Chelsea's efforts in the final third.  Good save, but the flag is up! Vinicius latches onto Asensio's neat pass and forces a one-on-one save from Kepa, only to be flagged offside!  Valverde and Vinicius are enjoying themselves now, capitalising on James' loose pass in midfield to launch a flowing move, which only ends when Silva steps in inside his own area.  Valverde is involved again as he charges to the byline and crosses low, only for Kepa to dive on the ball. The atmosphere is very flat among the home fans now.  Chelsea look to respond through Felix, who sees a shot blocked inside the six-yard box. The Blues have come up short in attack once again here.  Experienced defender Nacho, meanwhile, is on for Carvajal at right-back.  That will be Rodrygo's final involvement, with Ancelotti opting to withdraw the Brazilian and introduce Asensio.  Valverde has been outstanding at Stamford Bridge, and he is credited with the assist after teeing up Rodrygo when he could have gone for goal himself. He showed great composure to beat Silva in the build-up. What a goal!  GOAAAAAAL! RODRYGO GETS HIS BRACE! 2-0! What a goal this is from Madrid! A splendid move sees Vinicius dart onto Rudiger's ball in behind and cut back for Valverde on the edge of the area. The midfielder takes a fine touch past Silva before bearing down on Kepa and unselfishly squaring for Rodrygo to tap in. It's 4-0 on aggregate, and the holders are heading to the Champions League semi-finals!  Mount and Sterling are supporting Felix in the Chelsea attack now, with Mudryk filling in at left wing-back. The Blues have failed to garner any momentum since Rodrygo's goal, and Madrid have actually looked the more likely scorers on the break.  Lampard responds with a change of his own. Mount comes on for Havertz, who has been lively but lacking in end product.  Ancelotti turns to his bench again, withdrawing Kroos for Ceballos in midfield.  Great defending! Chelsea look to be in trouble as Chalobah misjudges a ball in behind, allowing Vinicius to run clear. With the Brazilian set to shoot, Mudryk dashes back to make a fine challenge, preventing further damage for the hosts.  The visiting fans are loving this as Valverde drills a great pass into Tchouameni, who looks to release Vinicius with a deft flick. Chelsea get bodies back and Mudryk makes a somewhat awkward clearance.  Following his opener in this game, all four of Rodrygo's Champions League knockout-stage goals have come against English sides, with the Brazilian scoring two apiece against Chelsea and Manchester City.  With the tie seemingly won, Benzema will get a rare rest from Champions League duty! Ancelotti brings Tchouameni on to shore up Madrid's midfield.  Chelsea appeal for a penalty as Havertz spins Modric inside the area and goes down. A VAR check takes place… but no penalty is given! Replays show there was minimal contact.  James sees a low shot from outside the area hit Militao and deflect wide for a corner. Felix delivers the set-piece, but Rudiger and Militao combine to clear.  Mudryk, meanwhile, is on for Cucurella, who missed a glaring chance in first-half stoppage time.  Sterling comes on for Fernandez, signalling a change of formation.  Chelsea are making a trio of attacking substitutions as they bid to claw back a 3-0 aggregate deficit. Joao Felix replaces Gallagher.  Benzema squanders a great chance! Rodrygo and Vinicius link up on the left-hand side of the area, with the former escaping a challenge to tee up Benzema just six yards out. The Frenchman has time to pick his spot, but remarkably, he side-foots straight at Kepa!  Good save! Gallagher shows good strength to hold off Carvajal and tee up Fernandez, who sees a dipping, left-footed shot parried by Courtois!  Vinicius' assist for Rodrygo's goal was his fifth in the Champions League this season. No other player has laid on more goals for team-mates in the competition this term.  Lampard is preparing to introduce Sterling and Felix in attack, but it appears to be too little, too late after Rodrygo's goal. The Brazil winger did brilliantly to break in behind, but Chalobah must take responsibility for his failure to cut out Militao's pass.  Gallagher shoots straight at Courtois from the edge of the area as Chelsea look to hit back. That goal has completely silenced the home crowd, and Madrid look to be cruising into the Champions League semi-finals!  Vinicius gets the assist for Rodrygo's goal, staying cool under pressure at the far post to pick out his opposite winger, who makes no mistake from close range!  GOAAAAAAAL! MADRID HIT CHELSEA ON THE BREAK! It's 1-0 at Stamford Bridge, and 3-0 on aggregate! Chalobah completely misses with an attempt to intercept Militao's pass, sending Rodrygo clear on the right. The Brazilian's cut-back is missed by Benzema but Vinicius keeps it alive, teeing up Rodrygo to slam beyond Kepa from six yards out! Surely this tie is over now!  This is another good spell for the hosts, with the atmosphere being ramped up inside Stamford Bridge. Havertz cuts inside Camavinga and shoots… but his weak effort is easily claimed by Courtois!  James' dismal free-kick is cleared by the first defender, before Fernandez sends a low drive wide of the left-hand post. Chelsea's set-pieces need to improve, but they are being offered plenty of encouragement by Madrid!  Chelsea are baying for a second yellow card for Militao as the Brazilian clips Chalobah on the left flank! Lampard is raging at the fourth official, though a second booking for that foul would have been harsh. Chelsea do, however, have the chance to swing a free-kick into the penalty area.  GREAT CHANCE! Havertz sees a right-wing cross acrobatically headed away by Rudiger, but Gallagher nods the ball back into the danger zone. It falls to Kante six yards out, but his volley is blocked in front of the goal by Militao! The Brazilian didn't know much about that, but it was a crucial intervention!  Camavinga is quickly back to his feet as Madrid restart the game. That yellow card means James would miss any potential semi-final first leg, but Chelsea have plenty of work to do before that is of any concern.  Camavinga cries out after coming off worse from a 50-50 challenge with James. The England man is booked, with replays showing he caught the top of Camavinga's foot with his studs showing.  Rodrygo is the target of a clever free-kick into the right-hand channel, but Chalobah and Silva combine to crowd the Brazilian out and win possession for Chelsea.  The corner is easily cleared, but Madrid quickly win another set-piece as Kovacic trips Kroos in midfield.  Chelsea are furious as Vinicius goes down under minimal pressure from Fofana, with the referee blowing for a free-kick. Kroos swings the ball in… but Chalobah nods behind for a Madrid corner.  Real Madrid have lost just one of their last 13 Champions League matches when going into the break level (W9 D3). All they need to do, to ensure they progress from this tie, is avoid a two-goal defeat.  Madrid get the second half under way! Lampard has opted against making a half-time change, but it is surely just a matter of time before Chelsea make attacking alterations.  Madrid make a half-time substitution as former Chelsea favourite Rudiger enters the fray. He replaces Alaba in the heart of the Blancos defence as they look to see out this tie.  HALF-TIME: CHELSEA 0-0 REAL MADRID  HUGE SAVE FROM COURTOIS! What a chance for Chelsea! Kovacic dances through midfield and tees up James on the right, allowing him to pick out his opposite wing-back Cucurella with a terrific low cross. The Spaniard has time to control and shoot from just six yards out, but Courtois smothers it to keep Madrid's two-goal cushion intact! The Blues should be a goal up in this second leg!  We're into two additional minutes as Chelsea look to build an attack. There has been plenty of effort from both sides, but Madrid retain their 2-0 first-leg lead.  What a break! Courtois catches a Chelsea corner and immediately sets Carvajal on the break. The full-back tears forward and tries to find Benzema with a deep cross, but the Frenchman is just unable to direct his volley inside the near post! That's a reminder of Madrid's quality on the counter-attack.  Chance for Madrid! Modric takes up a dangerous position on the right and whips a brilliant cross towards Vinicius at the back post. The Brazilian is under pressure from Fofana, and the ball spins off his shin and behind. Vinicius should have done better there, with Chelsea's defence caught short.  Havertz flicks the corner on, but Gallagher can't reach the loose ball and it drops harmlessly wide of Courtois' right-hand post.  Kante hares down the right and wins a corner off Camavinga. So much of Chelsea's attacking play has come down that flank, but wing-back James appeared to be limping a moment ago, which will be a big concern for Lampard.  Madrid are not quite clicking at present. Vinicius looks to play a give-and-go with Modric, but the Croatian plays an uncharacteristically poor pass straight to James.  Good defending! James works some space to hit a low cross into the six-yard box, but Alaba slides in to divert it away from the danger zone!  We're into the final 10 minutes of the first half at Stamford Bridge, and Lampard will be relatively pleased with Chelsea's performance. The Blues have enjoyed the better of the play without working Courtois, but with a two-goal win required, they need to be better in the final third.  Cucurella becomes the first Chelsea player booked, having cynically tripped Rodrygo as the Brazilian looked to scamper through midfield. Seconds earlier, Chelsea were frustrated not to be awarded a free-kick when James went down 25 yards out.  Silva rises to power the corner clear, before Kepa is almost caught in possession by Benzema, recovering to clear his lines under fierce pressure.  Modric forces the save! Modric breaks in behind from Carvajal's pass and looks to catch Kepa out with an early shot. His low effort is well-struck, but the goalkeeper is equal to it, diverting the ball behind for a corner.  Danger for Madrid, but the flag is up! Cucurella does well to keep Havertz's header in play and flick a cross towards the six-yard box. Gallagher is just unable to get over the ball as he heads off-target, but the flag eventually goes up against Cucurella!  Chelsea are failing to make the most of their crossing opportunities here. Lampard's side have a spare man inside the Madrid area as Cucurella breaks down the left, but his delivery is overhit and it bypasses everyone.  Solid save! A flowing Madrid move involving Benzema and Rodrygo sees Vinicius released into the left-hand channel, and the Brazilian cuts inside to shoot straight at Kepa. The Chelsea goalkeeper is unable to hold the ball, but Silva is on hand to clear.  Remarkably, each of Benzema's last 11 Champions League goals have come against English teams, while his last 14 have all been in the knockout stages of the competition, the longest such run by a player in Champions League history. The Frenchman has been quiet so far, but Chelsea will be aware of the damage he can cause – he scored a memorable hat-trick here last season.  Militao's yellow card means he will miss the first leg of any semi-final tie through suspension, if Madrid make it…  Militao appears to be in some discomfort following that challenge on Gallagher, having kicked the bottom of the Chelsea man's boot as he flew in at a dangerous height. The defender is continuing for now, but he's certainly not moving freely.  Fernandez's free-kick is easily cleared but Chelsea keep the pressure on, only for Silva to lift a weak attempt straight into Courtois' gloves from 25 yards out.  Militao flies into a reckless challenge on Gallagher, who was looking to break in behind on the left. The Madrid man is booked as Chelsea get a free-kick in a dangerous position, with Fernandez set to deliver.  POST! Madrid's first meaningful attack almost ends with a goal! Rodrygo finds space on the right-hand side of the area after linking up with Carvajal, and the Brazilian youngster opts to go for goal after shifting the ball to his right foot. He makes a good connection, but the shot crashes behind off the near post.  Now Rodrygo finds some space on the right flank, but his weak cross is easily cleared by Silva. We haven't seen much of Madrid as an attacking force yet.  A dire corner from James is thumped clear by Militao. Chelsea come again down the right, but Havertz's flick-on is shepherded back to Courtois by Carvajal.  Gallagher and Kovacic combine to feed Cucurella, who crosses against Carvajal to win a corner for Chelsea. The Blues' start has encouraged the Stamford Bridge crowd.  Vinicius tracks back to battle with James, winning a goal-kick for his team. Chelsea are looking to find their right wing-back at every opportunity, and they are causing Madrid problems early on.  Handball! Chalobah steps into midfield and releases Havertz in behind, with the German reaching the byline. He stands up a decent cross towards James, but the referee penalises the Chelsea man as he attempts to control it inside the area.  Chelsea continue to press as James' cross runs all the way through to Kovacic on the edge of the area, only for Militao to block his shot at close quarters. This is a decent spell for the hosts!  WIDE! What a chance for Chelsea! Havertz battles for a cross and the ball drops to Kante 12 yards from goal, completely unmarked. The midfielder swings his left foot at the ball, but he completely scuffs his volley and it bounces wide. That's a real let-off for Madrid!  A rare loose ball from Modric gives Chelsea the chance to put Madrid under pressure, but Kante is crowded out near the edge of the area and Madrid survive. The hosts are at least pressing high when Madrid have possession in their own half, causing the European champions some difficulties.  Chelsea have progressed from five of their last seven Champions League ties when losing the first leg away from home, and they have also qualified from their last two ties when losing the opener by two clear goals (vs Napoli in 2011-12 and Paris Saint-Germain in 2013-14). If they can complete a comeback in this tie, it would surely top those past achievements.  Vinicius gets his first chance to run at Fofana, but the Brazilian overhits his cross after cutting inside and it floats harmlessly behind.  Havertz is playing a lone striking role for Chelsea early on, with Kante and Gallagher pushing higher than Kovacic and Fernandez in midfield. Madrid have lined up in their usual 4-3-3 shape, looking to make the pitch wide and dominate possession.  Kante steals possession from Benzema, but Madrid quickly get it back as Carvajal wins a throw. It's been a fast start here as both teams battle for the ball in midfield.  Cucurella is on hand to intercept a slack ball from Valverde in midfield, and Chelsea can look to build an attack.  Havertz looks to get Chelsea on the front foot straight away, winning a throw-in high on the left. You feel the Blues must score first to have any chance of launching a comeback.  A somewhat bizarre moment before kick-off as the players line up… only for the Champions League anthem to not be played! Stamford Bridge is rocking as Gallagher gets us under way! \""
      ]
     },
     "execution_count": 562,
     "metadata": {},
     "output_type": "execute_result"
    }
   ],
   "source": [
    "comment"
   ]
  },
  {
   "cell_type": "code",
   "execution_count": 561,
   "metadata": {},
   "outputs": [
    {
     "ename": "KeyboardInterrupt",
     "evalue": "",
     "output_type": "error",
     "traceback": [
      "\u001b[0;31m---------------------------------------------------------------------------\u001b[0m",
      "\u001b[0;31mKeyboardInterrupt\u001b[0m                         Traceback (most recent call last)",
      "Cell \u001b[0;32mIn[561], line 7\u001b[0m\n\u001b[1;32m      5\u001b[0m api_key \u001b[38;5;241m=\u001b[39m api[\u001b[38;5;124m\"\u001b[39m\u001b[38;5;124mKey\u001b[39m\u001b[38;5;124m\"\u001b[39m][\u001b[38;5;241m0\u001b[39m]\n\u001b[1;32m      6\u001b[0m org_key \u001b[38;5;241m=\u001b[39m api[\u001b[38;5;124m\"\u001b[39m\u001b[38;5;124mKey\u001b[39m\u001b[38;5;124m\"\u001b[39m][\u001b[38;5;241m1\u001b[39m]\n\u001b[0;32m----> 7\u001b[0m gpt_comm \u001b[38;5;241m=\u001b[39m \u001b[43msummarize_text_gpt\u001b[49m\u001b[43m(\u001b[49m\u001b[43mcomment\u001b[49m\u001b[43m,\u001b[49m\u001b[43m \u001b[49m\u001b[43morg_key\u001b[49m\u001b[43m,\u001b[49m\u001b[43m \u001b[49m\u001b[43mapi_key\u001b[49m\u001b[43m)\u001b[49m\n\u001b[1;32m      8\u001b[0m gpt_comm\n",
      "Cell \u001b[0;32mIn[560], line 4\u001b[0m, in \u001b[0;36msummarize_text_gpt\u001b[0;34m(corpus, org_key, api_key)\u001b[0m\n\u001b[1;32m      2\u001b[0m openai\u001b[38;5;241m.\u001b[39morganization \u001b[38;5;241m=\u001b[39m org_key\n\u001b[1;32m      3\u001b[0m openai\u001b[38;5;241m.\u001b[39mapi_key \u001b[38;5;241m=\u001b[39m api_key\n\u001b[0;32m----> 4\u001b[0m engine_list \u001b[38;5;241m=\u001b[39m \u001b[43mopenai\u001b[49m\u001b[38;5;241;43m.\u001b[39;49m\u001b[43mEngine\u001b[49m\u001b[38;5;241;43m.\u001b[39;49m\u001b[43mlist\u001b[49m\u001b[43m(\u001b[49m\u001b[43m)\u001b[49m \u001b[38;5;66;03m# calling the engines available from the openai api \u001b[39;00m\n\u001b[1;32m      7\u001b[0m response \u001b[38;5;241m=\u001b[39m openai\u001b[38;5;241m.\u001b[39mCompletion\u001b[38;5;241m.\u001b[39mcreate(engine\u001b[38;5;241m=\u001b[39m\u001b[38;5;124m\"\u001b[39m\u001b[38;5;124mtext-davinci-003\u001b[39m\u001b[38;5;124m\"\u001b[39m,prompt\u001b[38;5;241m=\u001b[39mcorpus,temperature\u001b[38;5;241m=\u001b[39m\u001b[38;5;241m0.3\u001b[39m,\n\u001b[1;32m      8\u001b[0m         max_tokens\u001b[38;5;241m=\u001b[39m\u001b[38;5;241m200\u001b[39m,\n\u001b[1;32m      9\u001b[0m         top_p\u001b[38;5;241m=\u001b[39m\u001b[38;5;241m1\u001b[39m,\n\u001b[0;32m   (...)\u001b[0m\n\u001b[1;32m     12\u001b[0m         stop\u001b[38;5;241m=\u001b[39m[\u001b[38;5;124m\"\u001b[39m\u001b[38;5;130;01m\\n\u001b[39;00m\u001b[38;5;124m\"\u001b[39m]\n\u001b[1;32m     13\u001b[0m     )\n\u001b[1;32m     14\u001b[0m \u001b[38;5;28;01mreturn\u001b[39;00m response[\u001b[38;5;124m\"\u001b[39m\u001b[38;5;124mchoices\u001b[39m\u001b[38;5;124m\"\u001b[39m][\u001b[38;5;241m0\u001b[39m][\u001b[38;5;124m\"\u001b[39m\u001b[38;5;124mtext\u001b[39m\u001b[38;5;124m\"\u001b[39m]\n",
      "File \u001b[0;32m~/miniconda3/envs/anly521/lib/python3.10/site-packages/openai/api_resources/abstract/listable_api_resource.py:60\u001b[0m, in \u001b[0;36mListableAPIResource.list\u001b[0;34m(cls, api_key, request_id, api_version, organization, api_base, api_type, **params)\u001b[0m\n\u001b[1;32m     41\u001b[0m \u001b[39m@classmethod\u001b[39m\n\u001b[1;32m     42\u001b[0m \u001b[39mdef\u001b[39;00m \u001b[39mlist\u001b[39m(\n\u001b[1;32m     43\u001b[0m     \u001b[39mcls\u001b[39m,\n\u001b[0;32m   (...)\u001b[0m\n\u001b[1;32m     50\u001b[0m     \u001b[39m*\u001b[39m\u001b[39m*\u001b[39mparams,\n\u001b[1;32m     51\u001b[0m ):\n\u001b[1;32m     52\u001b[0m     requestor, url \u001b[39m=\u001b[39m \u001b[39mcls\u001b[39m\u001b[39m.\u001b[39m__prepare_list_requestor(\n\u001b[1;32m     53\u001b[0m         api_key,\n\u001b[1;32m     54\u001b[0m         api_version,\n\u001b[0;32m   (...)\u001b[0m\n\u001b[1;32m     57\u001b[0m         api_type,\n\u001b[1;32m     58\u001b[0m     )\n\u001b[0;32m---> 60\u001b[0m     response, _, api_key \u001b[39m=\u001b[39m requestor\u001b[39m.\u001b[39;49mrequest(\n\u001b[1;32m     61\u001b[0m         \u001b[39m\"\u001b[39;49m\u001b[39mget\u001b[39;49m\u001b[39m\"\u001b[39;49m, url, params, request_id\u001b[39m=\u001b[39;49mrequest_id\n\u001b[1;32m     62\u001b[0m     )\n\u001b[1;32m     63\u001b[0m     openai_object \u001b[39m=\u001b[39m util\u001b[39m.\u001b[39mconvert_to_openai_object(\n\u001b[1;32m     64\u001b[0m         response, api_key, api_version, organization\n\u001b[1;32m     65\u001b[0m     )\n\u001b[1;32m     66\u001b[0m     openai_object\u001b[39m.\u001b[39m_retrieve_params \u001b[39m=\u001b[39m params\n",
      "File \u001b[0;32m~/miniconda3/envs/anly521/lib/python3.10/site-packages/openai/api_requestor.py:216\u001b[0m, in \u001b[0;36mAPIRequestor.request\u001b[0;34m(self, method, url, params, headers, files, stream, request_id, request_timeout)\u001b[0m\n\u001b[1;32m    205\u001b[0m \u001b[39mdef\u001b[39;00m \u001b[39mrequest\u001b[39m(\n\u001b[1;32m    206\u001b[0m     \u001b[39mself\u001b[39m,\n\u001b[1;32m    207\u001b[0m     method,\n\u001b[0;32m   (...)\u001b[0m\n\u001b[1;32m    214\u001b[0m     request_timeout: Optional[Union[\u001b[39mfloat\u001b[39m, Tuple[\u001b[39mfloat\u001b[39m, \u001b[39mfloat\u001b[39m]]] \u001b[39m=\u001b[39m \u001b[39mNone\u001b[39;00m,\n\u001b[1;32m    215\u001b[0m ) \u001b[39m-\u001b[39m\u001b[39m>\u001b[39m Tuple[Union[OpenAIResponse, Iterator[OpenAIResponse]], \u001b[39mbool\u001b[39m, \u001b[39mstr\u001b[39m]:\n\u001b[0;32m--> 216\u001b[0m     result \u001b[39m=\u001b[39m \u001b[39mself\u001b[39;49m\u001b[39m.\u001b[39;49mrequest_raw(\n\u001b[1;32m    217\u001b[0m         method\u001b[39m.\u001b[39;49mlower(),\n\u001b[1;32m    218\u001b[0m         url,\n\u001b[1;32m    219\u001b[0m         params\u001b[39m=\u001b[39;49mparams,\n\u001b[1;32m    220\u001b[0m         supplied_headers\u001b[39m=\u001b[39;49mheaders,\n\u001b[1;32m    221\u001b[0m         files\u001b[39m=\u001b[39;49mfiles,\n\u001b[1;32m    222\u001b[0m         stream\u001b[39m=\u001b[39;49mstream,\n\u001b[1;32m    223\u001b[0m         request_id\u001b[39m=\u001b[39;49mrequest_id,\n\u001b[1;32m    224\u001b[0m         request_timeout\u001b[39m=\u001b[39;49mrequest_timeout,\n\u001b[1;32m    225\u001b[0m     )\n\u001b[1;32m    226\u001b[0m     resp, got_stream \u001b[39m=\u001b[39m \u001b[39mself\u001b[39m\u001b[39m.\u001b[39m_interpret_response(result, stream)\n\u001b[1;32m    227\u001b[0m     \u001b[39mreturn\u001b[39;00m resp, got_stream, \u001b[39mself\u001b[39m\u001b[39m.\u001b[39mapi_key\n",
      "File \u001b[0;32m~/miniconda3/envs/anly521/lib/python3.10/site-packages/openai/api_requestor.py:516\u001b[0m, in \u001b[0;36mAPIRequestor.request_raw\u001b[0;34m(self, method, url, params, supplied_headers, files, stream, request_id, request_timeout)\u001b[0m\n\u001b[1;32m    514\u001b[0m     _thread_context\u001b[39m.\u001b[39msession \u001b[39m=\u001b[39m _make_session()\n\u001b[1;32m    515\u001b[0m \u001b[39mtry\u001b[39;00m:\n\u001b[0;32m--> 516\u001b[0m     result \u001b[39m=\u001b[39m _thread_context\u001b[39m.\u001b[39;49msession\u001b[39m.\u001b[39;49mrequest(\n\u001b[1;32m    517\u001b[0m         method,\n\u001b[1;32m    518\u001b[0m         abs_url,\n\u001b[1;32m    519\u001b[0m         headers\u001b[39m=\u001b[39;49mheaders,\n\u001b[1;32m    520\u001b[0m         data\u001b[39m=\u001b[39;49mdata,\n\u001b[1;32m    521\u001b[0m         files\u001b[39m=\u001b[39;49mfiles,\n\u001b[1;32m    522\u001b[0m         stream\u001b[39m=\u001b[39;49mstream,\n\u001b[1;32m    523\u001b[0m         timeout\u001b[39m=\u001b[39;49mrequest_timeout \u001b[39mif\u001b[39;49;00m request_timeout \u001b[39melse\u001b[39;49;00m TIMEOUT_SECS,\n\u001b[1;32m    524\u001b[0m         proxies\u001b[39m=\u001b[39;49m_thread_context\u001b[39m.\u001b[39;49msession\u001b[39m.\u001b[39;49mproxies,\n\u001b[1;32m    525\u001b[0m     )\n\u001b[1;32m    526\u001b[0m \u001b[39mexcept\u001b[39;00m requests\u001b[39m.\u001b[39mexceptions\u001b[39m.\u001b[39mTimeout \u001b[39mas\u001b[39;00m e:\n\u001b[1;32m    527\u001b[0m     \u001b[39mraise\u001b[39;00m error\u001b[39m.\u001b[39mTimeout(\u001b[39m\"\u001b[39m\u001b[39mRequest timed out: \u001b[39m\u001b[39m{}\u001b[39;00m\u001b[39m\"\u001b[39m\u001b[39m.\u001b[39mformat(e)) \u001b[39mfrom\u001b[39;00m \u001b[39me\u001b[39;00m\n",
      "File \u001b[0;32m~/miniconda3/envs/anly521/lib/python3.10/site-packages/requests/sessions.py:587\u001b[0m, in \u001b[0;36mSession.request\u001b[0;34m(self, method, url, params, data, headers, cookies, files, auth, timeout, allow_redirects, proxies, hooks, stream, verify, cert, json)\u001b[0m\n\u001b[1;32m    582\u001b[0m send_kwargs \u001b[39m=\u001b[39m {\n\u001b[1;32m    583\u001b[0m     \u001b[39m\"\u001b[39m\u001b[39mtimeout\u001b[39m\u001b[39m\"\u001b[39m: timeout,\n\u001b[1;32m    584\u001b[0m     \u001b[39m\"\u001b[39m\u001b[39mallow_redirects\u001b[39m\u001b[39m\"\u001b[39m: allow_redirects,\n\u001b[1;32m    585\u001b[0m }\n\u001b[1;32m    586\u001b[0m send_kwargs\u001b[39m.\u001b[39mupdate(settings)\n\u001b[0;32m--> 587\u001b[0m resp \u001b[39m=\u001b[39m \u001b[39mself\u001b[39;49m\u001b[39m.\u001b[39;49msend(prep, \u001b[39m*\u001b[39;49m\u001b[39m*\u001b[39;49msend_kwargs)\n\u001b[1;32m    589\u001b[0m \u001b[39mreturn\u001b[39;00m resp\n",
      "File \u001b[0;32m~/miniconda3/envs/anly521/lib/python3.10/site-packages/requests/sessions.py:701\u001b[0m, in \u001b[0;36mSession.send\u001b[0;34m(self, request, **kwargs)\u001b[0m\n\u001b[1;32m    698\u001b[0m start \u001b[39m=\u001b[39m preferred_clock()\n\u001b[1;32m    700\u001b[0m \u001b[39m# Send the request\u001b[39;00m\n\u001b[0;32m--> 701\u001b[0m r \u001b[39m=\u001b[39m adapter\u001b[39m.\u001b[39;49msend(request, \u001b[39m*\u001b[39;49m\u001b[39m*\u001b[39;49mkwargs)\n\u001b[1;32m    703\u001b[0m \u001b[39m# Total elapsed time of the request (approximately)\u001b[39;00m\n\u001b[1;32m    704\u001b[0m elapsed \u001b[39m=\u001b[39m preferred_clock() \u001b[39m-\u001b[39m start\n",
      "File \u001b[0;32m~/miniconda3/envs/anly521/lib/python3.10/site-packages/requests/adapters.py:489\u001b[0m, in \u001b[0;36mHTTPAdapter.send\u001b[0;34m(self, request, stream, timeout, verify, cert, proxies)\u001b[0m\n\u001b[1;32m    487\u001b[0m \u001b[39mtry\u001b[39;00m:\n\u001b[1;32m    488\u001b[0m     \u001b[39mif\u001b[39;00m \u001b[39mnot\u001b[39;00m chunked:\n\u001b[0;32m--> 489\u001b[0m         resp \u001b[39m=\u001b[39m conn\u001b[39m.\u001b[39;49murlopen(\n\u001b[1;32m    490\u001b[0m             method\u001b[39m=\u001b[39;49mrequest\u001b[39m.\u001b[39;49mmethod,\n\u001b[1;32m    491\u001b[0m             url\u001b[39m=\u001b[39;49murl,\n\u001b[1;32m    492\u001b[0m             body\u001b[39m=\u001b[39;49mrequest\u001b[39m.\u001b[39;49mbody,\n\u001b[1;32m    493\u001b[0m             headers\u001b[39m=\u001b[39;49mrequest\u001b[39m.\u001b[39;49mheaders,\n\u001b[1;32m    494\u001b[0m             redirect\u001b[39m=\u001b[39;49m\u001b[39mFalse\u001b[39;49;00m,\n\u001b[1;32m    495\u001b[0m             assert_same_host\u001b[39m=\u001b[39;49m\u001b[39mFalse\u001b[39;49;00m,\n\u001b[1;32m    496\u001b[0m             preload_content\u001b[39m=\u001b[39;49m\u001b[39mFalse\u001b[39;49;00m,\n\u001b[1;32m    497\u001b[0m             decode_content\u001b[39m=\u001b[39;49m\u001b[39mFalse\u001b[39;49;00m,\n\u001b[1;32m    498\u001b[0m             retries\u001b[39m=\u001b[39;49m\u001b[39mself\u001b[39;49m\u001b[39m.\u001b[39;49mmax_retries,\n\u001b[1;32m    499\u001b[0m             timeout\u001b[39m=\u001b[39;49mtimeout,\n\u001b[1;32m    500\u001b[0m         )\n\u001b[1;32m    502\u001b[0m     \u001b[39m# Send the request.\u001b[39;00m\n\u001b[1;32m    503\u001b[0m     \u001b[39melse\u001b[39;00m:\n\u001b[1;32m    504\u001b[0m         \u001b[39mif\u001b[39;00m \u001b[39mhasattr\u001b[39m(conn, \u001b[39m\"\u001b[39m\u001b[39mproxy_pool\u001b[39m\u001b[39m\"\u001b[39m):\n",
      "File \u001b[0;32m~/miniconda3/envs/anly521/lib/python3.10/site-packages/urllib3/connectionpool.py:703\u001b[0m, in \u001b[0;36mHTTPConnectionPool.urlopen\u001b[0;34m(self, method, url, body, headers, retries, redirect, assert_same_host, timeout, pool_timeout, release_conn, chunked, body_pos, **response_kw)\u001b[0m\n\u001b[1;32m    700\u001b[0m     \u001b[39mself\u001b[39m\u001b[39m.\u001b[39m_prepare_proxy(conn)\n\u001b[1;32m    702\u001b[0m \u001b[39m# Make the request on the httplib connection object.\u001b[39;00m\n\u001b[0;32m--> 703\u001b[0m httplib_response \u001b[39m=\u001b[39m \u001b[39mself\u001b[39;49m\u001b[39m.\u001b[39;49m_make_request(\n\u001b[1;32m    704\u001b[0m     conn,\n\u001b[1;32m    705\u001b[0m     method,\n\u001b[1;32m    706\u001b[0m     url,\n\u001b[1;32m    707\u001b[0m     timeout\u001b[39m=\u001b[39;49mtimeout_obj,\n\u001b[1;32m    708\u001b[0m     body\u001b[39m=\u001b[39;49mbody,\n\u001b[1;32m    709\u001b[0m     headers\u001b[39m=\u001b[39;49mheaders,\n\u001b[1;32m    710\u001b[0m     chunked\u001b[39m=\u001b[39;49mchunked,\n\u001b[1;32m    711\u001b[0m )\n\u001b[1;32m    713\u001b[0m \u001b[39m# If we're going to release the connection in ``finally:``, then\u001b[39;00m\n\u001b[1;32m    714\u001b[0m \u001b[39m# the response doesn't need to know about the connection. Otherwise\u001b[39;00m\n\u001b[1;32m    715\u001b[0m \u001b[39m# it will also try to release it and we'll have a double-release\u001b[39;00m\n\u001b[1;32m    716\u001b[0m \u001b[39m# mess.\u001b[39;00m\n\u001b[1;32m    717\u001b[0m response_conn \u001b[39m=\u001b[39m conn \u001b[39mif\u001b[39;00m \u001b[39mnot\u001b[39;00m release_conn \u001b[39melse\u001b[39;00m \u001b[39mNone\u001b[39;00m\n",
      "File \u001b[0;32m~/miniconda3/envs/anly521/lib/python3.10/site-packages/urllib3/connectionpool.py:449\u001b[0m, in \u001b[0;36mHTTPConnectionPool._make_request\u001b[0;34m(self, conn, method, url, timeout, chunked, **httplib_request_kw)\u001b[0m\n\u001b[1;32m    444\u001b[0m             httplib_response \u001b[39m=\u001b[39m conn\u001b[39m.\u001b[39mgetresponse()\n\u001b[1;32m    445\u001b[0m         \u001b[39mexcept\u001b[39;00m \u001b[39mBaseException\u001b[39;00m \u001b[39mas\u001b[39;00m e:\n\u001b[1;32m    446\u001b[0m             \u001b[39m# Remove the TypeError from the exception chain in\u001b[39;00m\n\u001b[1;32m    447\u001b[0m             \u001b[39m# Python 3 (including for exceptions like SystemExit).\u001b[39;00m\n\u001b[1;32m    448\u001b[0m             \u001b[39m# Otherwise it looks like a bug in the code.\u001b[39;00m\n\u001b[0;32m--> 449\u001b[0m             six\u001b[39m.\u001b[39mraise_from(e, \u001b[39mNone\u001b[39;00m)\n\u001b[1;32m    450\u001b[0m \u001b[39mexcept\u001b[39;00m (SocketTimeout, BaseSSLError, SocketError) \u001b[39mas\u001b[39;00m e:\n\u001b[1;32m    451\u001b[0m     \u001b[39mself\u001b[39m\u001b[39m.\u001b[39m_raise_timeout(err\u001b[39m=\u001b[39me, url\u001b[39m=\u001b[39murl, timeout_value\u001b[39m=\u001b[39mread_timeout)\n",
      "File \u001b[0;32m<string>:3\u001b[0m, in \u001b[0;36mraise_from\u001b[0;34m(value, from_value)\u001b[0m\n",
      "File \u001b[0;32m~/miniconda3/envs/anly521/lib/python3.10/site-packages/urllib3/connectionpool.py:444\u001b[0m, in \u001b[0;36mHTTPConnectionPool._make_request\u001b[0;34m(self, conn, method, url, timeout, chunked, **httplib_request_kw)\u001b[0m\n\u001b[1;32m    441\u001b[0m \u001b[39mexcept\u001b[39;00m \u001b[39mTypeError\u001b[39;00m:\n\u001b[1;32m    442\u001b[0m     \u001b[39m# Python 3\u001b[39;00m\n\u001b[1;32m    443\u001b[0m     \u001b[39mtry\u001b[39;00m:\n\u001b[0;32m--> 444\u001b[0m         httplib_response \u001b[39m=\u001b[39m conn\u001b[39m.\u001b[39mgetresponse()\n\u001b[1;32m    445\u001b[0m     \u001b[39mexcept\u001b[39;00m \u001b[39mBaseException\u001b[39;00m \u001b[39mas\u001b[39;00m e:\n\u001b[1;32m    446\u001b[0m         \u001b[39m# Remove the TypeError from the exception chain in\u001b[39;00m\n\u001b[1;32m    447\u001b[0m         \u001b[39m# Python 3 (including for exceptions like SystemExit).\u001b[39;00m\n\u001b[1;32m    448\u001b[0m         \u001b[39m# Otherwise it looks like a bug in the code.\u001b[39;00m\n\u001b[1;32m    449\u001b[0m         six\u001b[39m.\u001b[39mraise_from(e, \u001b[39mNone\u001b[39;00m)\n",
      "File \u001b[0;32m~/miniconda3/envs/anly521/lib/python3.10/http/client.py:1374\u001b[0m, in \u001b[0;36mgetresponse\u001b[0;34m(self)\u001b[0m\n\u001b[1;32m   1371\u001b[0m     response \u001b[39m=\u001b[39m \u001b[39mself\u001b[39m\u001b[39m.\u001b[39mresponse_class(\u001b[39mself\u001b[39m\u001b[39m.\u001b[39msock, method\u001b[39m=\u001b[39m\u001b[39mself\u001b[39m\u001b[39m.\u001b[39m_method)\n\u001b[1;32m   1373\u001b[0m \u001b[39mtry\u001b[39;00m:\n\u001b[0;32m-> 1374\u001b[0m     \u001b[39mtry\u001b[39;00m:\n\u001b[1;32m   1375\u001b[0m         response\u001b[39m.\u001b[39mbegin()\n\u001b[1;32m   1376\u001b[0m     \u001b[39mexcept\u001b[39;00m \u001b[39mConnectionError\u001b[39;00m:\n",
      "File \u001b[0;32m~/miniconda3/envs/anly521/lib/python3.10/http/client.py:318\u001b[0m, in \u001b[0;36mHTTPResponse.begin\u001b[0;34m(self)\u001b[0m\n\u001b[1;32m    316\u001b[0m \u001b[39m# read until we get a non-100 response\u001b[39;00m\n\u001b[1;32m    317\u001b[0m \u001b[39mwhile\u001b[39;00m \u001b[39mTrue\u001b[39;00m:\n\u001b[0;32m--> 318\u001b[0m     version, status, reason \u001b[39m=\u001b[39m \u001b[39mself\u001b[39;49m\u001b[39m.\u001b[39;49m_read_status()\n\u001b[1;32m    319\u001b[0m     \u001b[39mif\u001b[39;00m status \u001b[39m!=\u001b[39m CONTINUE:\n\u001b[1;32m    320\u001b[0m         \u001b[39mbreak\u001b[39;00m\n",
      "File \u001b[0;32m~/miniconda3/envs/anly521/lib/python3.10/http/client.py:279\u001b[0m, in \u001b[0;36mHTTPResponse._read_status\u001b[0;34m(self)\u001b[0m\n\u001b[1;32m    278\u001b[0m \u001b[39mdef\u001b[39;00m \u001b[39m_read_status\u001b[39m(\u001b[39mself\u001b[39m):\n\u001b[0;32m--> 279\u001b[0m     line \u001b[39m=\u001b[39m \u001b[39mstr\u001b[39m(\u001b[39mself\u001b[39;49m\u001b[39m.\u001b[39;49mfp\u001b[39m.\u001b[39;49mreadline(_MAXLINE \u001b[39m+\u001b[39;49m \u001b[39m1\u001b[39;49m), \u001b[39m\"\u001b[39m\u001b[39miso-8859-1\u001b[39m\u001b[39m\"\u001b[39m)\n\u001b[1;32m    280\u001b[0m     \u001b[39mif\u001b[39;00m \u001b[39mlen\u001b[39m(line) \u001b[39m>\u001b[39m _MAXLINE:\n\u001b[1;32m    281\u001b[0m         \u001b[39mraise\u001b[39;00m LineTooLong(\u001b[39m\"\u001b[39m\u001b[39mstatus line\u001b[39m\u001b[39m\"\u001b[39m)\n",
      "File \u001b[0;32m~/miniconda3/envs/anly521/lib/python3.10/socket.py:705\u001b[0m, in \u001b[0;36mSocketIO.readinto\u001b[0;34m(self, b)\u001b[0m\n\u001b[1;32m    703\u001b[0m \u001b[39mwhile\u001b[39;00m \u001b[39mTrue\u001b[39;00m:\n\u001b[1;32m    704\u001b[0m     \u001b[39mtry\u001b[39;00m:\n\u001b[0;32m--> 705\u001b[0m         \u001b[39mreturn\u001b[39;00m \u001b[39mself\u001b[39;49m\u001b[39m.\u001b[39;49m_sock\u001b[39m.\u001b[39;49mrecv_into(b)\n\u001b[1;32m    706\u001b[0m     \u001b[39mexcept\u001b[39;00m timeout:\n\u001b[1;32m    707\u001b[0m         \u001b[39mself\u001b[39m\u001b[39m.\u001b[39m_timeout_occurred \u001b[39m=\u001b[39m \u001b[39mTrue\u001b[39;00m\n",
      "File \u001b[0;32m~/miniconda3/envs/anly521/lib/python3.10/ssl.py:1274\u001b[0m, in \u001b[0;36mSSLSocket.recv_into\u001b[0;34m(self, buffer, nbytes, flags)\u001b[0m\n\u001b[1;32m   1270\u001b[0m     \u001b[39mif\u001b[39;00m flags \u001b[39m!=\u001b[39m \u001b[39m0\u001b[39m:\n\u001b[1;32m   1271\u001b[0m         \u001b[39mraise\u001b[39;00m \u001b[39mValueError\u001b[39;00m(\n\u001b[1;32m   1272\u001b[0m           \u001b[39m\"\u001b[39m\u001b[39mnon-zero flags not allowed in calls to recv_into() on \u001b[39m\u001b[39m%s\u001b[39;00m\u001b[39m\"\u001b[39m \u001b[39m%\u001b[39m\n\u001b[1;32m   1273\u001b[0m           \u001b[39mself\u001b[39m\u001b[39m.\u001b[39m\u001b[39m__class__\u001b[39m)\n\u001b[0;32m-> 1274\u001b[0m     \u001b[39mreturn\u001b[39;00m \u001b[39mself\u001b[39;49m\u001b[39m.\u001b[39;49mread(nbytes, buffer)\n\u001b[1;32m   1275\u001b[0m \u001b[39melse\u001b[39;00m:\n\u001b[1;32m   1276\u001b[0m     \u001b[39mreturn\u001b[39;00m \u001b[39msuper\u001b[39m()\u001b[39m.\u001b[39mrecv_into(buffer, nbytes, flags)\n",
      "File \u001b[0;32m~/miniconda3/envs/anly521/lib/python3.10/ssl.py:1130\u001b[0m, in \u001b[0;36mSSLSocket.read\u001b[0;34m(self, len, buffer)\u001b[0m\n\u001b[1;32m   1128\u001b[0m \u001b[39mtry\u001b[39;00m:\n\u001b[1;32m   1129\u001b[0m     \u001b[39mif\u001b[39;00m buffer \u001b[39mis\u001b[39;00m \u001b[39mnot\u001b[39;00m \u001b[39mNone\u001b[39;00m:\n\u001b[0;32m-> 1130\u001b[0m         \u001b[39mreturn\u001b[39;00m \u001b[39mself\u001b[39;49m\u001b[39m.\u001b[39;49m_sslobj\u001b[39m.\u001b[39;49mread(\u001b[39mlen\u001b[39;49m, buffer)\n\u001b[1;32m   1131\u001b[0m     \u001b[39melse\u001b[39;00m:\n\u001b[1;32m   1132\u001b[0m         \u001b[39mreturn\u001b[39;00m \u001b[39mself\u001b[39m\u001b[39m.\u001b[39m_sslobj\u001b[39m.\u001b[39mread(\u001b[39mlen\u001b[39m)\n",
      "\u001b[0;31mKeyboardInterrupt\u001b[0m: "
     ]
    }
   ],
   "source": [
    "# reading keys from file\n",
    "\n",
    "api = pd.read_csv('../../../OpenAI.txt')\n",
    "\n",
    "api_key = api[\"Key\"][0]\n",
    "org_key = api[\"Key\"][1]\n",
    "gpt_comm = summarize_text_gpt(comment, org_key, api_key)\n",
    "gpt_comm"
   ]
  },
  {
   "cell_type": "markdown",
   "metadata": {},
   "source": [
    "# Using Gensim"
   ]
  },
  {
   "cell_type": "code",
   "execution_count": 526,
   "metadata": {},
   "outputs": [],
   "source": [
    "# In google colab"
   ]
  },
  {
   "cell_type": "markdown",
   "metadata": {},
   "source": [
    "# Get full time summary using comment description from dataset"
   ]
  },
  {
   "cell_type": "code",
   "execution_count": 527,
   "metadata": {},
   "outputs": [
    {
     "data": {
      "text/plain": [
       "\" We hope you have enjoyed our live coverage of yet another European win for Real Madrid. It's goodbye for now, and we'll see you next time!   While Madrid's Champions League defence continues apace, Chelsea have lost four successive matches since Frank Lampard returned to the club as interim boss. The Blues will now endure just their second trophyless season in the last seven campaigns, and with 17 points separating them from the Premier League's top four, it could be some time before Stamford Bridge hosts another Champions League fixture!   It's all over at Stamford Bridge, and it's another 2-0 win over Chelsea for Real Madrid – Los Blancos take the quarter-final tie 4-0 on aggregate! Chelsea performed admirably for long periods as Cucurella and Kante missed great chances to cut Madrid's lead, but they could not find a response when Rodrygo hammered Vinicius' cut-back in from close range after 58 minutes. A flowing move involving Valverde led to Rodrygo getting a second with 10 minutes remaining, and Madrid look like they have plenty more to offer as they approach a semi-final tie against Manchester City or Bayern Munich! \""
      ]
     },
     "execution_count": 527,
     "metadata": {},
     "output_type": "execute_result"
    }
   ],
   "source": [
    "ft_comm = temp_df[temp_df['comment_desc'] == 'full time summary']['comment']\n",
    "full_time_summary = \" \".join(ft_comm)\n",
    "full_time_summary"
   ]
  },
  {
   "cell_type": "markdown",
   "metadata": {},
   "source": [
    "# Summarize the live ticker"
   ]
  },
  {
   "cell_type": "markdown",
   "metadata": {},
   "source": [
    "## Using SpaCy"
   ]
  },
  {
   "cell_type": "code",
   "execution_count": 528,
   "metadata": {},
   "outputs": [
    {
     "name": "stdout",
     "output_type": "stream",
     "text": [
      "45\n"
     ]
    },
    {
     "data": {
      "text/plain": [
       "\"A rare loose ball from Modric gives Chelsea the chance to put Madrid under pressure, but Kante is crowded out near the edge of the area and Madrid survive. Militao's yellow card means he will miss the first leg of any semi-final tie through suspension, if Madrid make it…  Militao appears to be in some discomfort following that challenge on Gallagher, having kicked the bottom of the Chelsea man's boot as he flew in at a dangerous height. Rodrygo is the target of a clever free-kick into the right-hand channel, but Chalobah and Silva combine to crowd the Brazilian out and win possession for Chelsea.  \""
      ]
     },
     "execution_count": 528,
     "metadata": {},
     "output_type": "execute_result"
    }
   ],
   "source": [
    "# Approach 1\n",
    "spacy_summary1 = get_spacy_summary(comment)\n",
    "spacy_summary1"
   ]
  },
  {
   "cell_type": "code",
   "execution_count": 529,
   "metadata": {},
   "outputs": [
    {
     "data": {
      "text/plain": [
       "\"Vinicius gets the assist for Rodrygo's goal, staying cool under pressure at the far post to pick out his opposite winger, who makes no mistake from close range!  GOAAAAAAAL! James works some space to hit a low cross into the six-yard box, but Alaba slides in to divert it away from the danger zone! A rare loose ball from Modric gives Chelsea the chance to put Madrid under pressure, but Kante is crowded out near the edge of the area and Madrid survive.\""
      ]
     },
     "execution_count": 529,
     "metadata": {},
     "output_type": "execute_result"
    }
   ],
   "source": [
    "# Approach 2\n",
    "spacy_summary2 = summarize_text_spacy(comment)\n",
    "spacy_summary2"
   ]
  },
  {
   "cell_type": "markdown",
   "metadata": {},
   "source": [
    "## Using nltk"
   ]
  },
  {
   "cell_type": "code",
   "execution_count": 530,
   "metadata": {},
   "outputs": [
    {
     "data": {
      "text/plain": [
       "' FULL-TIME: CHELSEA 0-2 REAL MADRID  Valverde sweeps a pass out to Ceballos, who cuts inside and shoots straight at Kepa from the edge of the area. A rare loose ball from Modric gives Chelsea the chance to put Madrid under pressure, but Kante is crowded out near the edge of the area and Madrid survive. Cucurella is on hand to intercept a slack ball from Valverde in midfield, and Chelsea can look to build an attack.'"
      ]
     },
     "execution_count": 530,
     "metadata": {},
     "output_type": "execute_result"
    }
   ],
   "source": [
    "nltk_summary = summarize_text_nltk(comment)\n",
    "nltk_summary"
   ]
  },
  {
   "cell_type": "markdown",
   "metadata": {},
   "source": [
    "## Using GPT-3"
   ]
  },
  {
   "cell_type": "code",
   "execution_count": 531,
   "metadata": {},
   "outputs": [
    {
     "data": {
      "text/plain": [
       "\" We're just moments away from kick-off at Stamford Bridge, with Chelsea needing to overturn a two-goal deficit to keep their Champions League campaign alive.  Madrid have won each of their last four Champions League knockout ties against English sides, while they have also kept a clean sheet in each of their last three meetings with Chelsea.  Chelsea have made two changes from their last outing, with Kovacic and Gallagher coming in for Mount and Azpilicueta. Madrid, meanwhile, have made just one alteration, with Carvajal replacing Nacho at right-back.  TEAM NEWS:  CHELSEA XI: Kepa; Cucurella, Silva, Fofana, James; Kovacic, Chalobah; Gallagher, Havertz, Fernandez; Kante  REAL MADRID XI: Courtois; Carvajal, Militao, Alaba, Valverde; Modric, Casemiro, Kroos; Rod\""
      ]
     },
     "execution_count": 531,
     "metadata": {},
     "output_type": "execute_result"
    }
   ],
   "source": [
    "gpt_summary = summarize_text_gpt(comment)\n",
    "gpt_summary"
   ]
  },
  {
   "cell_type": "markdown",
   "metadata": {},
   "source": [
    "# Using BLEU for comparison"
   ]
  },
  {
   "cell_type": "code",
   "execution_count": 532,
   "metadata": {},
   "outputs": [],
   "source": [
    "# def calc_bleu(ft_summary, my_summary):\n",
    "#     return bleu([ft_summary.split()], my_summary.split())"
   ]
  },
  {
   "cell_type": "markdown",
   "metadata": {},
   "source": [
    "# Using Cosine similarity for comparison"
   ]
  },
  {
   "cell_type": "code",
   "execution_count": 533,
   "metadata": {},
   "outputs": [],
   "source": [
    "# Using CountVectorizer()\n",
    "def calc_cos_sim_count_vec(ft_summary, my_summary):\n",
    "    corpus = [ft_summary, my_summary]\n",
    "    # Create the Document Term Matrix\n",
    "    count_vectorizer = CountVectorizer()\n",
    "    sparse_matrix = count_vectorizer.fit_transform(corpus)\n",
    "\n",
    "    # OPTIONAL: Convert Sparse Matrix to Pandas Dataframe if you want to see the word frequencies.\n",
    "    doc_term_matrix = sparse_matrix.todense()\n",
    "    df = pd.DataFrame(doc_term_matrix, \n",
    "                    columns=count_vectorizer.vocabulary_.keys(), \n",
    "                    index=['ft_summary_org','ft_summary_crtd'])\n",
    "    \n",
    "    # Compute Cosine Similarity\n",
    "    return cosine_similarity(df[0:1], df)"
   ]
  },
  {
   "cell_type": "code",
   "execution_count": 534,
   "metadata": {},
   "outputs": [],
   "source": [
    "# # Using TF-IDF\n",
    "# def calc_cos_sim_tfidf(ft_summary, my_summary):\n",
    "#     corpus = [ft_summary, my_summary]\n",
    "#     vectorizer = TfidfVectorizer()\n",
    "#     trsfm=vectorizer.fit_transform(corpus)\n",
    "\n",
    "#     # OPTIONAL: Convert Sparse Matrix to Pandas Dataframe if you want to see the word frequencies.\n",
    "#     doc_term_matrix = trsfm.todense()\n",
    "#     trsfm_df = pd.DataFrame(doc_term_matrix,\n",
    "#                             columns=vectorizer.vocabulary_.keys(),\n",
    "#                             index=['ft_summary_org','ft_summary_crtd'])\n",
    "\n",
    "#     return cosine_similarity(trsfm[0:1], trsfm)"
   ]
  },
  {
   "cell_type": "code",
   "execution_count": 535,
   "metadata": {},
   "outputs": [
    {
     "data": {
      "text/plain": [
       "array([[1.       , 0.4714833]])"
      ]
     },
     "execution_count": 535,
     "metadata": {},
     "output_type": "execute_result"
    }
   ],
   "source": [
    "calc_cos_sim_count_vec(full_time_summary, spacy_summary1)"
   ]
  },
  {
   "cell_type": "code",
   "execution_count": 536,
   "metadata": {},
   "outputs": [
    {
     "data": {
      "text/plain": [
       "array([[1.        , 0.41096252]])"
      ]
     },
     "execution_count": 536,
     "metadata": {},
     "output_type": "execute_result"
    }
   ],
   "source": [
    "calc_cos_sim_count_vec(full_time_summary, spacy_summary2)"
   ]
  },
  {
   "cell_type": "code",
   "execution_count": 537,
   "metadata": {},
   "outputs": [
    {
     "data": {
      "text/plain": [
       "array([[1.        , 0.45017869]])"
      ]
     },
     "execution_count": 537,
     "metadata": {},
     "output_type": "execute_result"
    }
   ],
   "source": [
    "calc_cos_sim_count_vec(full_time_summary, nltk_summary)"
   ]
  },
  {
   "cell_type": "code",
   "execution_count": 538,
   "metadata": {},
   "outputs": [
    {
     "data": {
      "text/plain": [
       "array([[1.        , 0.43443679]])"
      ]
     },
     "execution_count": 538,
     "metadata": {},
     "output_type": "execute_result"
    }
   ],
   "source": [
    "calc_cos_sim_count_vec(full_time_summary, gpt_summary)"
   ]
  }
 ],
 "metadata": {
  "kernelspec": {
   "display_name": "Python 3.10.8 ('anly521')",
   "language": "python",
   "name": "python3"
  },
  "language_info": {
   "codemirror_mode": {
    "name": "ipython",
    "version": 3
   },
   "file_extension": ".py",
   "mimetype": "text/x-python",
   "name": "python",
   "nbconvert_exporter": "python",
   "pygments_lexer": "ipython3",
   "version": "3.10.8"
  },
  "orig_nbformat": 4,
  "vscode": {
   "interpreter": {
    "hash": "045993bec6224f6bf157e7265b027fdb84d23efb85222067a0580c561b3b8fe4"
   }
  }
 },
 "nbformat": 4,
 "nbformat_minor": 2
}
