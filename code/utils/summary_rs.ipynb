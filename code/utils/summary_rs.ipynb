{
 "cells": [
  {
   "cell_type": "code",
   "execution_count": 17,
   "metadata": {},
   "outputs": [
    {
     "name": "stderr",
     "output_type": "stream",
     "text": [
      "[nltk_data] Downloading package stopwords to\n",
      "[nltk_data]     /Users/raghavsharma/nltk_data...\n",
      "[nltk_data]   Package stopwords is already up-to-date!\n",
      "[nltk_data] Downloading package wordnet to\n",
      "[nltk_data]     /Users/raghavsharma/nltk_data...\n",
      "[nltk_data]   Package wordnet is already up-to-date!\n",
      "[nltk_data] Downloading package omw-1.4 to\n",
      "[nltk_data]     /Users/raghavsharma/nltk_data...\n",
      "[nltk_data]   Package omw-1.4 is already up-to-date!\n"
     ]
    }
   ],
   "source": [
    "import pandas as pd\n",
    "import numpy as np\n",
    "\n",
    "import re\n",
    "import string\n",
    "\n",
    "import nltk\n",
    "nltk.download('stopwords')\n",
    "nltk.download('wordnet')\n",
    "nltk.download('omw-1.4')\n",
    "\n",
    "import spacy\n",
    "nlp = spacy.load(\"en_core_web_sm\")\n",
    "\n",
    "import warnings\n",
    "warnings.filterwarnings('ignore')"
   ]
  },
  {
   "cell_type": "code",
   "execution_count": 7,
   "metadata": {},
   "outputs": [
    {
     "data": {
      "text/html": [
       "<div>\n",
       "<style scoped>\n",
       "    .dataframe tbody tr th:only-of-type {\n",
       "        vertical-align: middle;\n",
       "    }\n",
       "\n",
       "    .dataframe tbody tr th {\n",
       "        vertical-align: top;\n",
       "    }\n",
       "\n",
       "    .dataframe thead th {\n",
       "        text-align: right;\n",
       "    }\n",
       "</style>\n",
       "<table border=\"1\" class=\"dataframe\">\n",
       "  <thead>\n",
       "    <tr style=\"text-align: right;\">\n",
       "      <th></th>\n",
       "      <th>time</th>\n",
       "      <th>comment</th>\n",
       "      <th>event</th>\n",
       "      <th>event_player</th>\n",
       "      <th>event_team</th>\n",
       "      <th>comment_desc</th>\n",
       "    </tr>\n",
       "  </thead>\n",
       "  <tbody>\n",
       "    <tr>\n",
       "      <th>0</th>\n",
       "      <td>NaN</td>\n",
       "      <td>We hope you have enjoyed our live coverage of...</td>\n",
       "      <td>NaN</td>\n",
       "      <td>NaN</td>\n",
       "      <td>NaN</td>\n",
       "      <td>full time summary</td>\n",
       "    </tr>\n",
       "    <tr>\n",
       "      <th>1</th>\n",
       "      <td>NaN</td>\n",
       "      <td>While Madrid's Champions League defence conti...</td>\n",
       "      <td>NaN</td>\n",
       "      <td>NaN</td>\n",
       "      <td>NaN</td>\n",
       "      <td>full time summary</td>\n",
       "    </tr>\n",
       "    <tr>\n",
       "      <th>2</th>\n",
       "      <td>NaN</td>\n",
       "      <td>It's all over at Stamford Bridge, and it's an...</td>\n",
       "      <td>NaN</td>\n",
       "      <td>NaN</td>\n",
       "      <td>NaN</td>\n",
       "      <td>full time summary</td>\n",
       "    </tr>\n",
       "    <tr>\n",
       "      <th>3</th>\n",
       "      <td>90 + 3</td>\n",
       "      <td>FULL-TIME: CHELSEA 0-2 REAL MADRID</td>\n",
       "      <td>NaN</td>\n",
       "      <td>NaN</td>\n",
       "      <td>NaN</td>\n",
       "      <td>timer</td>\n",
       "    </tr>\n",
       "    <tr>\n",
       "      <th>4</th>\n",
       "      <td>90 + 3</td>\n",
       "      <td>Valverde sweeps a pass out to Ceballos, who c...</td>\n",
       "      <td>NaN</td>\n",
       "      <td>NaN</td>\n",
       "      <td>NaN</td>\n",
       "      <td>timer</td>\n",
       "    </tr>\n",
       "  </tbody>\n",
       "</table>\n",
       "</div>"
      ],
      "text/plain": [
       "     time                                            comment event  \\\n",
       "0     NaN   We hope you have enjoyed our live coverage of...   NaN   \n",
       "1     NaN   While Madrid's Champions League defence conti...   NaN   \n",
       "2     NaN   It's all over at Stamford Bridge, and it's an...   NaN   \n",
       "3  90 + 3                FULL-TIME: CHELSEA 0-2 REAL MADRID    NaN   \n",
       "4  90 + 3   Valverde sweeps a pass out to Ceballos, who c...   NaN   \n",
       "\n",
       "  event_player event_team       comment_desc  \n",
       "0          NaN        NaN  full time summary  \n",
       "1          NaN        NaN  full time summary  \n",
       "2          NaN        NaN  full time summary  \n",
       "3          NaN        NaN              timer  \n",
       "4          NaN        NaN              timer  "
      ]
     },
     "execution_count": 7,
     "metadata": {},
     "output_type": "execute_result"
    }
   ],
   "source": [
    "temp_df = pd.read_csv('../../data/temp_data.csv')\n",
    "temp_df.head()"
   ]
  },
  {
   "cell_type": "markdown",
   "metadata": {},
   "source": [
    "# Cleaning the data"
   ]
  },
  {
   "cell_type": "code",
   "execution_count": 8,
   "metadata": {},
   "outputs": [],
   "source": [
    "def remove_punct(text):\n",
    "    \"\"\" A method to remove punctuations from text \"\"\"\n",
    "    text  = \"\".join([char for char in text if char not in string.punctuation])\n",
    "    text = re.sub('[0-9]+', '', text) #removes numbers from text\n",
    "    return text"
   ]
  },
  {
   "cell_type": "code",
   "execution_count": 9,
   "metadata": {},
   "outputs": [],
   "source": [
    "def remove_stopwords(text):\n",
    "    \"\"\" A method to remove all the stopwords \"\"\"\n",
    "    stopwords = nltk.corpus.stopwords.words('english')\n",
    "    text = [word for word in text if word not in stopwords]\n",
    "    return text"
   ]
  },
  {
   "cell_type": "code",
   "execution_count": 10,
   "metadata": {},
   "outputs": [],
   "source": [
    "def tokenization(text):\n",
    "    \"\"\" A method to tokenize text data \"\"\"\n",
    "    text = re.split('\\W+', text) #splitting each sentence/ tweet into its individual words\n",
    "    return text"
   ]
  },
  {
   "cell_type": "code",
   "execution_count": 11,
   "metadata": {},
   "outputs": [],
   "source": [
    "def stemming(text):\n",
    "    \"\"\" A method to perform stemming on text data\"\"\"\n",
    "    porter_stem = nltk.PorterStemmer()\n",
    "    text = [porter_stem.stem(word) for word in text]\n",
    "    return text"
   ]
  },
  {
   "cell_type": "code",
   "execution_count": 12,
   "metadata": {},
   "outputs": [],
   "source": [
    "def lemmatizer(text):\n",
    "    word_net_lemma = nltk.WordNetLemmatizer()\n",
    "    text = [word_net_lemma.lemmatize(word) for word in text]\n",
    "    return text"
   ]
  },
  {
   "cell_type": "code",
   "execution_count": 13,
   "metadata": {},
   "outputs": [],
   "source": [
    "# Making a common cleaning function for every part below for code reproducability\n",
    "def clean_text(list_words):\n",
    "    # Making a regex pattern to match in the characters we would like to replace from the words\n",
    "    character_replace = \",()0123456789.?!@#$%&;*:_,/\" \n",
    "    pattern = \"[\" + character_replace + \"]\"\n",
    "    # ------------------------------------------------------------------------------------\n",
    "\n",
    "    # ------------------------------------------------------------------------------------\n",
    "    new_list_words = []\n",
    "    # Looping through every word to remove the characters and appending back to a new list\n",
    "    # replace is being used for the characters that could not be catched through regex\n",
    "    for s in list_words:\n",
    "        new_word = s.lower()\n",
    "        new_word = re.sub(pattern,\"\",new_word)\n",
    "        new_word = new_word.replace('[', '')\n",
    "        new_word = new_word.replace(']', '')\n",
    "        new_word = new_word.replace('-', '')\n",
    "        new_word = new_word.replace('—', '')\n",
    "        new_word = new_word.replace('“', '')\n",
    "        new_word = new_word.replace(\"’\", '')\n",
    "        new_word = new_word.replace(\"”\", '')\n",
    "        new_word = new_word.replace(\"‘\", '')\n",
    "        new_word = new_word.replace('\"', '')\n",
    "        new_word = new_word.replace(\"'\", '')\n",
    "        new_word = new_word.replace(\" \", '')\n",
    "        new_list_words.append(new_word)\n",
    "\n",
    "    # Using filter to remove empty strings\n",
    "    new_list_words = list(filter(None, new_list_words))\n",
    "    return new_list_words"
   ]
  },
  {
   "cell_type": "code",
   "execution_count": 14,
   "metadata": {},
   "outputs": [],
   "source": [
    "def clean(df, text_col):\n",
    "    \"\"\" A method to do basic data cleaning \"\"\"\n",
    "    \n",
    "    clean_data = df.copy()\n",
    "    \n",
    "    clean_data['clean_text']=clean_data[text_col].apply(lambda x: remove_punct(x))\n",
    "    \n",
    "    clean_data['text_tokenized'] = clean_data['clean_text'].apply(lambda x: tokenization(x.lower()))\n",
    "    \n",
    "    stopwords = nltk.corpus.stopwords.words('english')\n",
    "    \n",
    "    clean_data['text_without_stop'] = clean_data['text_tokenized'].apply(lambda x: remove_stopwords(x))    \n",
    "    \n",
    "    clean_data['text_stemmed'] = clean_data['text_without_stop'].apply(lambda x: stemming(x))\n",
    "        \n",
    "    clean_data['text_lemmatized'] = clean_data['text_without_stop'].apply(lambda x: lemmatizer(x))\n",
    "\n",
    "    clean_data['text_final'] = clean_data['text_lemmatized'].apply(lambda x: clean_text(x))\n",
    "    \n",
    "    return clean_data"
   ]
  },
  {
   "cell_type": "code",
   "execution_count": null,
   "metadata": {},
   "outputs": [],
   "source": [
    "def clean(corpus):\n",
    "    \"\"\" A method to do basic data cleaning \"\"\"\n",
    "    clean_data = pd.DataFrame(columns=['ini_text', 'clean_text', 'text_tokenized', 'text_without_stop', \n",
    "                                       'text_stemmed', 'text_lemmatized', 'text_final'])\n",
    "\n",
    "    clean_data['ini_text'] = [corpus]\n",
    "\n",
    "    clean_data['clean_text']=clean_data['ini_text'].apply(lambda x: remove_punct(x))\n",
    "    \n",
    "    clean_data['text_tokenized'] = clean_data['clean_text'].apply(lambda x: tokenization(x.lower()))\n",
    "    \n",
    "    stopwords = set(nltk.corpus.stopwords.words('english'))\n",
    "    \n",
    "    clean_data['text_without_stop'] = clean_data['text_tokenized'].apply(lambda x: remove_stopwords(x))    \n",
    "    \n",
    "    clean_data['text_stemmed'] = clean_data['text_without_stop'].apply(lambda x: stemming(x))\n",
    "        \n",
    "    clean_data['text_lemmatized'] = clean_data['text_without_stop'].apply(lambda x: lemmatizer(x))\n",
    "\n",
    "    clean_data['text_final'] = clean_data['text_lemmatized'].apply(lambda x: clean_text(x))\n",
    "    \n",
    "    return clean_data"
   ]
  },
  {
   "cell_type": "markdown",
   "metadata": {},
   "source": [
    "# Using SpaCy to summarize the text"
   ]
  },
  {
   "cell_type": "code",
   "execution_count": 84,
   "metadata": {},
   "outputs": [],
   "source": [
    "def summarize_text(text, num_sentences=3):\n",
    "    doc = nlp(text)\n",
    "    sentences = [sent for sent in doc.sents]\n",
    "    sentence_scores = {}\n",
    "    for i, sent in enumerate(sentences):\n",
    "        sentence_scores[i] = sent.similarity(doc)\n",
    "    top_sentences = sorted(sentence_scores, key=sentence_scores.get, reverse=True)[:num_sentences]\n",
    "    summary = [sentences[i].text.strip() for i in top_sentences]\n",
    "    return \" \".join(summary)"
   ]
  },
  {
   "cell_type": "code",
   "execution_count": 107,
   "metadata": {},
   "outputs": [
    {
     "data": {
      "text/html": [
       "<div>\n",
       "<style scoped>\n",
       "    .dataframe tbody tr th:only-of-type {\n",
       "        vertical-align: middle;\n",
       "    }\n",
       "\n",
       "    .dataframe tbody tr th {\n",
       "        vertical-align: top;\n",
       "    }\n",
       "\n",
       "    .dataframe thead th {\n",
       "        text-align: right;\n",
       "    }\n",
       "</style>\n",
       "<table border=\"1\" class=\"dataframe\">\n",
       "  <thead>\n",
       "    <tr style=\"text-align: right;\">\n",
       "      <th></th>\n",
       "      <th>comment</th>\n",
       "    </tr>\n",
       "  </thead>\n",
       "  <tbody>\n",
       "    <tr>\n",
       "      <th>3</th>\n",
       "      <td>FULL-TIME: CHELSEA 0-2 REAL MADRID</td>\n",
       "    </tr>\n",
       "    <tr>\n",
       "      <th>4</th>\n",
       "      <td>Valverde sweeps a pass out to Ceballos, who c...</td>\n",
       "    </tr>\n",
       "    <tr>\n",
       "      <th>5</th>\n",
       "      <td>Camavinga and Valverde team up to deny Sterli...</td>\n",
       "    </tr>\n",
       "    <tr>\n",
       "      <th>6</th>\n",
       "      <td>We're into three minutes of stoppage time as ...</td>\n",
       "    </tr>\n",
       "    <tr>\n",
       "      <th>7</th>\n",
       "      <td>Mudryk picks up a late booking for a frustrat...</td>\n",
       "    </tr>\n",
       "    <tr>\n",
       "      <th>...</th>\n",
       "      <td>...</td>\n",
       "    </tr>\n",
       "    <tr>\n",
       "      <th>82</th>\n",
       "      <td>Havertz is playing a lone striking role for C...</td>\n",
       "    </tr>\n",
       "    <tr>\n",
       "      <th>83</th>\n",
       "      <td>Kante steals possession from Benzema, but Mad...</td>\n",
       "    </tr>\n",
       "    <tr>\n",
       "      <th>84</th>\n",
       "      <td>Cucurella is on hand to intercept a slack bal...</td>\n",
       "    </tr>\n",
       "    <tr>\n",
       "      <th>85</th>\n",
       "      <td>Havertz looks to get Chelsea on the front foo...</td>\n",
       "    </tr>\n",
       "    <tr>\n",
       "      <th>86</th>\n",
       "      <td>A somewhat bizarre moment before kick-off as ...</td>\n",
       "    </tr>\n",
       "  </tbody>\n",
       "</table>\n",
       "<p>82 rows × 1 columns</p>\n",
       "</div>"
      ],
      "text/plain": [
       "                                              comment\n",
       "3                 FULL-TIME: CHELSEA 0-2 REAL MADRID \n",
       "4    Valverde sweeps a pass out to Ceballos, who c...\n",
       "5    Camavinga and Valverde team up to deny Sterli...\n",
       "6    We're into three minutes of stoppage time as ...\n",
       "7    Mudryk picks up a late booking for a frustrat...\n",
       "..                                                ...\n",
       "82   Havertz is playing a lone striking role for C...\n",
       "83   Kante steals possession from Benzema, but Mad...\n",
       "84   Cucurella is on hand to intercept a slack bal...\n",
       "85   Havertz looks to get Chelsea on the front foo...\n",
       "86   A somewhat bizarre moment before kick-off as ...\n",
       "\n",
       "[82 rows x 1 columns]"
      ]
     },
     "execution_count": 107,
     "metadata": {},
     "output_type": "execute_result"
    }
   ],
   "source": [
    "df1 = pd.DataFrame(columns=['comment'])\n",
    "df1['comment'] = temp_df[temp_df['comment_desc'] == 'timer']['comment']\n",
    "df1"
   ]
  },
  {
   "cell_type": "code",
   "execution_count": 96,
   "metadata": {},
   "outputs": [
    {
     "name": "stdout",
     "output_type": "stream",
     "text": [
      "Vinicius gets the assist for Rodrygo's goal, staying cool under pressure at the far post to pick out his opposite winger, who makes no mistake from close range!  GOAAAAAAAL! James works some space to hit a low cross into the six-yard box, but Alaba slides in to divert it away from the danger zone! A rare loose ball from Modric gives Chelsea the chance to put Madrid under pressure, but Kante is crowded out near the edge of the area and Madrid survive.\n"
     ]
    }
   ],
   "source": [
    "comment = ''\n",
    "for comm in df1['comment']:\n",
    "    comment += comm\n",
    "\n",
    "summary = summarize_text(comment)\n",
    "print(summary)"
   ]
  },
  {
   "cell_type": "markdown",
   "metadata": {},
   "source": [
    "# Using nltk for text summarization"
   ]
  },
  {
   "cell_type": "code",
   "execution_count": 114,
   "metadata": {},
   "outputs": [],
   "source": [
    "import nltk\n",
    "from nltk.corpus import stopwords\n",
    "from nltk.tokenize import word_tokenize, sent_tokenize\n",
    "from nltk.stem import PorterStemmer\n",
    "from heapq import nlargest\n",
    "\n",
    "def summarize_text_nltk(text, num_sentences=3):\n",
    "    # Tokenize the text into sentences\n",
    "    sentences = sent_tokenize(text)\n",
    "    \n",
    "    # Tokenize the sentences into words and remove stopwords\n",
    "\n",
    "    # stop_words = set(stopwords.words(\"english\"))\n",
    "    \n",
    "    text_punct_removed = remove_punct(text)\n",
    "    words = tokenization(text_punct_removed.lower())\n",
    "    \n",
    "    # words = word_tokenize(text)\n",
    "\n",
    "    # remove stopwords\n",
    "    stop_words =  set(nltk.corpus.stopwords.words('english'))\n",
    "    filtered_words = [word for word in words if word not in stop_words]\n",
    "    \n",
    "    # Apply stemming to the filtered words\n",
    "    stemmer = PorterStemmer()\n",
    "    stemmed_words = [stemmer.stem(word) for word in filtered_words]\n",
    "\n",
    "    # Lemmatize words\n",
    "    word_net_lemma = nltk.WordNetLemmatizer()\n",
    "    word_lemma = [word_net_lemma.lemmatize(word) for word in stemmed_words]\n",
    "    \n",
    "    # Calculate word frequency and sentence scores\n",
    "    word_freq = nltk.FreqDist(stemmed_words)\n",
    "    sentence_scores = {}\n",
    "    for i, sentence in enumerate(sentences):\n",
    "        for word in nltk.word_tokenize(sentence.lower()):\n",
    "            if word in word_freq:\n",
    "                if len(sentence.split()) < 30:\n",
    "                    if i not in sentence_scores:\n",
    "                        sentence_scores[i] = word_freq[word]\n",
    "                    else:\n",
    "                        sentence_scores[i] += word_freq[word]\n",
    "    \n",
    "    # Select the top sentences based on their scores\n",
    "    summary_sentences = nlargest(num_sentences, sentence_scores, key=sentence_scores.get)\n",
    "    summary = [sentences[i] for i in sorted(summary_sentences)]\n",
    "    return \" \".join(summary)"
   ]
  },
  {
   "cell_type": "code",
   "execution_count": 115,
   "metadata": {},
   "outputs": [
    {
     "name": "stdout",
     "output_type": "stream",
     "text": [
      " FULL-TIME: CHELSEA 0-2 REAL MADRID  Valverde sweeps a pass out to Ceballos, who cuts inside and shoots straight at Kepa from the edge of the area. A rare loose ball from Modric gives Chelsea the chance to put Madrid under pressure, but Kante is crowded out near the edge of the area and Madrid survive. Cucurella is on hand to intercept a slack ball from Valverde in midfield, and Chelsea can look to build an attack.\n"
     ]
    }
   ],
   "source": [
    "comment = ''\n",
    "for comm in df1['comment']:\n",
    "    comment += comm\n",
    "\n",
    "summary = summarize_text_nltk(comment)\n",
    "print(summary)"
   ]
  },
  {
   "cell_type": "markdown",
   "metadata": {},
   "source": [
    "# Using sliding window technique"
   ]
  },
  {
   "cell_type": "code",
   "execution_count": 150,
   "metadata": {},
   "outputs": [],
   "source": [
    "def window_df(df, start_timer, end_timer):\n",
    "    comments = []\n",
    "    for i in range(len(df)):\n",
    "        time = df['time'][i]\n",
    "        if time != 'nan':\n",
    "            if '+' in time:\n",
    "                time = time[:2]\n",
    "            if int(time) >= start_timer and int(time) < end_timer:\n",
    "                if df['comment_desc'][i] == 'timer':\n",
    "                    comments.append(df['comment'][i])\n",
    "    return \" \".join(comments)"
   ]
  },
  {
   "cell_type": "code",
   "execution_count": 151,
   "metadata": {},
   "outputs": [],
   "source": [
    "# Convert time column to str\n",
    "temp_df['time'] = temp_df['time'].astype(str)\n",
    "\n",
    "# Divide the dataframe into 6 separate dfs, each corresponding to 15 minutes of the match.\n",
    "comm_15 = window_df(temp_df, 0, 16)\n",
    "comm_30 = window_df(temp_df, 16, 31)\n",
    "comm_45 = window_df(temp_df, 31, 46)\n",
    "comm_60 = window_df(temp_df, 46, 61)\n",
    "comm_75 = window_df(temp_df, 61, 76)\n",
    "comm_90 = window_df(temp_df, 76, 91)\n",
    "\n",
    "comments = [comm_15, comm_30, comm_45, comm_60, comm_75, comm_90]"
   ]
  },
  {
   "cell_type": "code",
   "execution_count": 160,
   "metadata": {},
   "outputs": [
    {
     "data": {
      "text/plain": [
       "['A rare loose ball from Modric gives Chelsea the chance to put Madrid under pressure, but Kante is crowded out near the edge of the area and Madrid survive. Cucurella is on hand to intercept a slack ball from Valverde in midfield, and Chelsea can look to build an attack. Havertz looks to get Chelsea on the front foot straight away, winning a throw-in high on the left.',\n",
       " \"Lampard's side have a spare man inside the Madrid area as Cucurella breaks down the left, but his delivery is overhit and it bypasses everyone. A flowing Madrid move involving Benzema and Rodrygo sees Vinicius released into the left-hand channel, and the Brazilian cuts inside to shoot straight at Kepa. The Madrid man is booked as Chelsea get a free-kick in a dangerous position, with Fernandez set to deliver.\",\n",
       " \" HALF-TIME: CHELSEA 0-0 REAL MADRID   HUGE SAVE FROM COURTOIS! So much of Chelsea's attacking play has come down that flank, but wing-back James appeared to be limping a moment ago, which will be a big concern for Lampard. Cucurella becomes the first Chelsea player booked, having cynically tripped Rodrygo as the Brazilian looked to scamper through midfield.\",\n",
       " 'Chelsea are baying for a second yellow card for Militao as the Brazilian clips Chalobah on the left flank! Rodrygo is the target of a clever free-kick into the right-hand channel, but Chalobah and Silva combine to crowd the Brazilian out and win possession for Chelsea. Madrid make a half-time substitution as former Chelsea favourite Rudiger enters the fray.',\n",
       " \"Chelsea look to be in trouble as Chalobah misjudges a ball in behind, allowing Vinicius to run clear. Rodrygo and Vinicius link up on the left-hand side of the area, with the former escaping a challenge to tee up Benzema just six yards out. The Brazil winger did brilliantly to break in behind, but Chalobah must take responsibility for his failure to cut out Militao's pass.\",\n",
       " \" FULL-TIME: CHELSEA 0-2 REAL MADRID   Valverde sweeps a pass out to Ceballos, who cuts inside and shoots straight at Kepa from the edge of the area. Though Chelsea missed a couple of clear chances at 0-0, Madrid's backline has stood firm for the majority of this game. The Blues have failed to garner any momentum since Rodrygo's goal, and Madrid have actually looked the more likely scorers on the break.\"]"
      ]
     },
     "execution_count": 160,
     "metadata": {},
     "output_type": "execute_result"
    }
   ],
   "source": [
    "summaries = []\n",
    "for comment  in comments:\n",
    "    summaries.append(summarize_text_nltk(comment))\n",
    "\n",
    "summaries"
   ]
  },
  {
   "cell_type": "code",
   "execution_count": 161,
   "metadata": {},
   "outputs": [],
   "source": [
    "timer_list= ['[1-15]', '[16-30]', '[31-45]', '[46-60]', '[61-75]', '[76-90]']"
   ]
  },
  {
   "cell_type": "code",
   "execution_count": 162,
   "metadata": {},
   "outputs": [
    {
     "data": {
      "text/plain": [
       "['[1-15] A rare loose ball from Modric gives Chelsea the chance to put Madrid under pressure, but Kante is crowded out near the edge of the area and Madrid survive. Cucurella is on hand to intercept a slack ball from Valverde in midfield, and Chelsea can look to build an attack. Havertz looks to get Chelsea on the front foot straight away, winning a throw-in high on the left.',\n",
       " \"[16-30] Lampard's side have a spare man inside the Madrid area as Cucurella breaks down the left, but his delivery is overhit and it bypasses everyone. A flowing Madrid move involving Benzema and Rodrygo sees Vinicius released into the left-hand channel, and the Brazilian cuts inside to shoot straight at Kepa. The Madrid man is booked as Chelsea get a free-kick in a dangerous position, with Fernandez set to deliver.\",\n",
       " \"[31-45]  HALF-TIME: CHELSEA 0-0 REAL MADRID   HUGE SAVE FROM COURTOIS! So much of Chelsea's attacking play has come down that flank, but wing-back James appeared to be limping a moment ago, which will be a big concern for Lampard. Cucurella becomes the first Chelsea player booked, having cynically tripped Rodrygo as the Brazilian looked to scamper through midfield.\",\n",
       " '[46-60] Chelsea are baying for a second yellow card for Militao as the Brazilian clips Chalobah on the left flank! Rodrygo is the target of a clever free-kick into the right-hand channel, but Chalobah and Silva combine to crowd the Brazilian out and win possession for Chelsea. Madrid make a half-time substitution as former Chelsea favourite Rudiger enters the fray.',\n",
       " \"[61-75] Chelsea look to be in trouble as Chalobah misjudges a ball in behind, allowing Vinicius to run clear. Rodrygo and Vinicius link up on the left-hand side of the area, with the former escaping a challenge to tee up Benzema just six yards out. The Brazil winger did brilliantly to break in behind, but Chalobah must take responsibility for his failure to cut out Militao's pass.\",\n",
       " \"[76-90]  FULL-TIME: CHELSEA 0-2 REAL MADRID   Valverde sweeps a pass out to Ceballos, who cuts inside and shoots straight at Kepa from the edge of the area. Though Chelsea missed a couple of clear chances at 0-0, Madrid's backline has stood firm for the majority of this game. The Blues have failed to garner any momentum since Rodrygo's goal, and Madrid have actually looked the more likely scorers on the break.\"]"
      ]
     },
     "execution_count": 162,
     "metadata": {},
     "output_type": "execute_result"
    }
   ],
   "source": [
    "for i in range(len(summaries)):\n",
    "    summaries[i] = timer_list[i] + ' ' +  summaries[i]\n",
    "\n",
    "summaries"
   ]
  },
  {
   "cell_type": "code",
   "execution_count": 155,
   "metadata": {},
   "outputs": [
    {
     "data": {
      "text/plain": [
       "'A rare loose ball from Modric gives Chelsea the chance to put Madrid under pressure, but Kante is crowded out near the edge of the area and Madrid survive. Cucurella is on hand to intercept a slack ball from Valverde in midfield, and Chelsea can look to build an attack. Havertz looks to get Chelsea on the front foot straight away, winning a throw-in high on the left.'"
      ]
     },
     "execution_count": 155,
     "metadata": {},
     "output_type": "execute_result"
    }
   ],
   "source": [
    "summaries[0]"
   ]
  },
  {
   "cell_type": "code",
   "execution_count": 163,
   "metadata": {},
   "outputs": [
    {
     "data": {
      "text/plain": [
       "\"[1-15] A rare loose ball from Modric gives Chelsea the chance to put Madrid under pressure, but Kante is crowded out near the edge of the area and Madrid survive. Cucurella is on hand to intercept a slack ball from Valverde in midfield, and Chelsea can look to build an attack. Havertz looks to get Chelsea on the front foot straight away, winning a throw-in high on the left. [16-30] Lampard's side have a spare man inside the Madrid area as Cucurella breaks down the left, but his delivery is overhit and it bypasses everyone. A flowing Madrid move involving Benzema and Rodrygo sees Vinicius released into the left-hand channel, and the Brazilian cuts inside to shoot straight at Kepa. The Madrid man is booked as Chelsea get a free-kick in a dangerous position, with Fernandez set to deliver. [31-45]  HALF-TIME: CHELSEA 0-0 REAL MADRID   HUGE SAVE FROM COURTOIS! So much of Chelsea's attacking play has come down that flank, but wing-back James appeared to be limping a moment ago, which will be a big concern for Lampard. Cucurella becomes the first Chelsea player booked, having cynically tripped Rodrygo as the Brazilian looked to scamper through midfield. [46-60] Chelsea are baying for a second yellow card for Militao as the Brazilian clips Chalobah on the left flank! Rodrygo is the target of a clever free-kick into the right-hand channel, but Chalobah and Silva combine to crowd the Brazilian out and win possession for Chelsea. Madrid make a half-time substitution as former Chelsea favourite Rudiger enters the fray. [61-75] Chelsea look to be in trouble as Chalobah misjudges a ball in behind, allowing Vinicius to run clear. Rodrygo and Vinicius link up on the left-hand side of the area, with the former escaping a challenge to tee up Benzema just six yards out. The Brazil winger did brilliantly to break in behind, but Chalobah must take responsibility for his failure to cut out Militao's pass. [76-90]  FULL-TIME: CHELSEA 0-2 REAL MADRID   Valverde sweeps a pass out to Ceballos, who cuts inside and shoots straight at Kepa from the edge of the area. Though Chelsea missed a couple of clear chances at 0-0, Madrid's backline has stood firm for the majority of this game. The Blues have failed to garner any momentum since Rodrygo's goal, and Madrid have actually looked the more likely scorers on the break.\""
      ]
     },
     "execution_count": 163,
     "metadata": {},
     "output_type": "execute_result"
    }
   ],
   "source": [
    "summ_comm = \" \".join(summaries)\n",
    "summ_comm"
   ]
  },
  {
   "cell_type": "code",
   "execution_count": 164,
   "metadata": {},
   "outputs": [
    {
     "name": "stdout",
     "output_type": "stream",
     "text": [
      "Cucurella is on hand to intercept a slack ball from Valverde in midfield, and Chelsea can look to build an attack. Rodrygo is the target of a clever free-kick into the right-hand channel, but Chalobah and Silva combine to crowd the Brazilian out and win possession for Chelsea. [76-90]  FULL-TIME: CHELSEA 0-2 REAL MADRID   Valverde sweeps a pass out to Ceballos, who cuts inside and shoots straight at Kepa from the edge of the area.\n"
     ]
    }
   ],
   "source": [
    "print(summarize_text_nltk(summ_comm))"
   ]
  }
 ],
 "metadata": {
  "kernelspec": {
   "display_name": "Python 3.10.8 ('anly521')",
   "language": "python",
   "name": "python3"
  },
  "language_info": {
   "codemirror_mode": {
    "name": "ipython",
    "version": 3
   },
   "file_extension": ".py",
   "mimetype": "text/x-python",
   "name": "python",
   "nbconvert_exporter": "python",
   "pygments_lexer": "ipython3",
   "version": "3.10.8"
  },
  "orig_nbformat": 4,
  "vscode": {
   "interpreter": {
    "hash": "045993bec6224f6bf157e7265b027fdb84d23efb85222067a0580c561b3b8fe4"
   }
  }
 },
 "nbformat": 4,
 "nbformat_minor": 2
}
