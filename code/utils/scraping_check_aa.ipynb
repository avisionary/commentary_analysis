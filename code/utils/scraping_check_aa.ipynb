{
 "cells": [
  {
   "cell_type": "code",
   "execution_count": 57,
   "metadata": {},
   "outputs": [
    {
     "name": "stdout",
     "output_type": "stream",
     "text": [
      "200\n",
      "Total scraped comments : 97 \n"
     ]
    }
   ],
   "source": [
    "from requests import get\n",
    "from bs4 import BeautifulSoup\n",
    "from lxml import html\n",
    "import datetime\n",
    "import regex as re\n",
    "\n",
    "#target site\n",
    "#url = \"https://www.goal.com/en-in/team/real-madrid/fixtures-results/3kq9cckrnlogidldtdie2fkbl\"\n",
    "\n",
    "url = \"https://www.goal.com/en-us/match/chelsea-v-real-madrid/commentary-result/5qqp70lllowy1dj4df2v9n09g\"\n",
    "\n",
    "#get data from site\n",
    "response = get(url,headers= {'User-Agent' : 'Mozilla/5.0 (X11; Linux x86_64) AppleWebKit/537.36 (KHTML, like Gecko) Chrome/47.0.2526.106 Safari/537.36'} )\n",
    "\n",
    "#print status code\n",
    "print(response.status_code)\n",
    "\n",
    "pageSoup = BeautifulSoup(response.content, 'html.parser')\n",
    "\n",
    "time = []\n",
    "comment = []\n",
    "event = []\n",
    "event_player = []\n",
    "event_team = []\n",
    "comment_desc = []\n",
    "\n",
    "half_time_flag = False\n",
    "timer_flag = False\n",
    "comment_desc_dict = {True: \"half time summary\",\n",
    "                  False : \"full time summary\"}\n",
    "\n",
    "counter = 0\n",
    "\n",
    "for x in pageSoup.findAll('div',class_ = \"comment\"):\n",
    "    counter += 1\n",
    "\n",
    "    if x.find_all(\"div\", {\"class\": \"comment-event\"}):\n",
    "        for q in x.findAll('div',class_ = \"wrapper\"):\n",
    "            for r in q.findAll('div',class_ = \"event-text has-additional\"):\n",
    "                p = r.find(\"div\",{\"class\" : \"event-text-main\" }).text\n",
    "                e = r.find(\"div\",{\"class\" : \"event-text-additional\" }).text\n",
    "                    #e = x.find(\"div\", {\"class\": \"comment-event\"}).find(\"event-text-additional\").text\n",
    "            for r in q.findAll('div',class_ = \"event-crest\"):\n",
    "                for d in r.findAll('a'):\n",
    "                    #print(d)\n",
    "                    te = d.find(\"img\")['alt']\n",
    "                    \n",
    "\n",
    "        event_player.append(p)\n",
    "        event.append(e)\n",
    "        event_team.append(te)\n",
    "\n",
    "\n",
    "    else:\n",
    "        event_player.append(\"\")\n",
    "        event.append(\"\")\n",
    "        event_team.append(\"\")\n",
    "    for y in x.findAll('div',class_ = \"comment-desc\"):\n",
    "        if y.find_all(\"span\", {\"class\": \"time\"}):\n",
    "            timer_flag = True\n",
    "\n",
    "\n",
    "            t = y.find('span',class_ = \"time\").text\n",
    "            t = t.replace(\"'\",\"\")\n",
    "            #print(t)\n",
    "            time.append(t)\n",
    "            comment_desc.append(\"timer\")\n",
    "        else:\n",
    "            time.append(\"\")\n",
    "            if time[-1] == \"\" and timer_flag:\n",
    "                    half_time_flag = True\n",
    "            comment_desc.append(comment_desc_dict[half_time_flag])\n",
    "            #print(\"Summary\")\n",
    "        \n",
    "        if y.find_all(\"span\", {\"class\": \"text\"}):\n",
    "            c = y.find('span',class_ = \"text\").text\n",
    "            comment.append(c)\n",
    "print(f\"Total scraped comments : {counter} \")\n"
   ]
  },
  {
   "cell_type": "code",
   "execution_count": 58,
   "metadata": {},
   "outputs": [
    {
     "name": "stdout",
     "output_type": "stream",
     "text": [
      "['', '', '', '90 + 3', '90 + 3', '90 + 2', '90', '89', '88', '87']\n",
      "[\" We hope you have enjoyed our live coverage of yet another European win for Real Madrid. It's goodbye for now, and we'll see you next time! \", \" While Madrid's Champions League defence continues apace, Chelsea have lost four successive matches since Frank Lampard returned to the club as interim boss. The Blues will now endure just their second trophyless season in the last seven campaigns, and with 17 points separating them from the Premier League's top four, it could be some time before Stamford Bridge hosts another Champions League fixture! \", \" It's all over at Stamford Bridge, and it's another 2-0 win over Chelsea for Real Madrid – Los Blancos take the quarter-final tie 4-0 on aggregate! Chelsea performed admirably for long periods as Cucurella and Kante missed great chances to cut Madrid's lead, but they could not find a response when Rodrygo hammered Vinicius' cut-back in from close range after 58 minutes. A flowing move involving Valverde led to Rodrygo getting a second with 10 minutes remaining, and Madrid look like they have plenty more to offer as they approach a semi-final tie against Manchester City or Bayern Munich! \", ' FULL-TIME: CHELSEA 0-2 REAL MADRID ', \" Valverde sweeps a pass out to Ceballos, who cuts inside and shoots straight at Kepa from the edge of the area. That should be that for Madrid, and for Chelsea's Champions League campaign. \", \" Camavinga and Valverde team up to deny Sterling a route to the byline. Though Chelsea missed a couple of clear chances at 0-0, Madrid's backline has stood firm for the majority of this game. \", \" We're into three minutes of stoppage time as Felix shoots well over. Real Madrid's fans are in great voice, their defence of the Champions League trophy is set to continue! For Chelsea, a trophyless campaign is about to become reality. \", ' Mudryk picks up a late booking for a frustrated lunge on Modric in midfield. ', \" Now Mudryk bursts through on goal at the other end and smashes into the side-netting, only for the flag to go up. The Ukrainian mistimed his run, but his wayward finish was typical of Chelsea's efforts in the final third. \", \" Good save, but the flag is up! Vinicius latches onto Asensio's neat pass and forces a one-on-one save from Kepa, only to be flagged offside! \"]\n",
      "['', '', '', '', '', '', '', ' Yellow Card ', '', '']\n",
      "['', '', '', '', '', '', '', ' M. Mudryk ', '', '']\n",
      "['', '', '', '', '', '', '', 'Chelsea', '', '']\n",
      "['full time summary', 'full time summary', 'full time summary', 'timer', 'timer', 'timer', 'timer', 'timer', 'timer', 'timer']\n"
     ]
    }
   ],
   "source": [
    "print(time[0:10])\n",
    "print(comment[0:10])\n",
    "print(event[0:10])\n",
    "print(event_player[0:10])\n",
    "print(event_team[0:10])\n",
    "print(comment_desc[0:10])"
   ]
  },
  {
   "cell_type": "code",
   "execution_count": 53,
   "metadata": {},
   "outputs": [],
   "source": [
    "import pandas as pd"
   ]
  },
  {
   "cell_type": "code",
   "execution_count": 59,
   "metadata": {},
   "outputs": [],
   "source": [
    "commentary_df = pd.DataFrame(list(zip(time, comment,event,event_player,event_team,comment_desc)),\n",
    "               columns =['time', 'comment','event','event_player','event_team','comment_desc'])"
   ]
  },
  {
   "cell_type": "code",
   "execution_count": 56,
   "metadata": {},
   "outputs": [
    {
     "data": {
      "text/html": [
       "<div>\n",
       "<style scoped>\n",
       "    .dataframe tbody tr th:only-of-type {\n",
       "        vertical-align: middle;\n",
       "    }\n",
       "\n",
       "    .dataframe tbody tr th {\n",
       "        vertical-align: top;\n",
       "    }\n",
       "\n",
       "    .dataframe thead th {\n",
       "        text-align: right;\n",
       "    }\n",
       "</style>\n",
       "<table border=\"1\" class=\"dataframe\">\n",
       "  <thead>\n",
       "    <tr style=\"text-align: right;\">\n",
       "      <th></th>\n",
       "      <th>time</th>\n",
       "      <th>comment</th>\n",
       "      <th>event</th>\n",
       "      <th>event_player</th>\n",
       "      <th>event_team</th>\n",
       "      <th>comment_desc</th>\n",
       "    </tr>\n",
       "  </thead>\n",
       "  <tbody>\n",
       "    <tr>\n",
       "      <th>92</th>\n",
       "      <td></td>\n",
       "      <td>CHELSEA SUBS: Edouard Mendy, Christian Pulisi...</td>\n",
       "      <td></td>\n",
       "      <td></td>\n",
       "      <td></td>\n",
       "      <td>half time summary</td>\n",
       "    </tr>\n",
       "    <tr>\n",
       "      <th>93</th>\n",
       "      <td></td>\n",
       "      <td>CHELSEA (3-5-1-1): Kepa Arrizabalaga; Trevoh ...</td>\n",
       "      <td></td>\n",
       "      <td></td>\n",
       "      <td></td>\n",
       "      <td>half time summary</td>\n",
       "    </tr>\n",
       "    <tr>\n",
       "      <th>94</th>\n",
       "      <td></td>\n",
       "      <td>Fourteen-time European champions Madrid were ...</td>\n",
       "      <td></td>\n",
       "      <td></td>\n",
       "      <td></td>\n",
       "      <td>half time summary</td>\n",
       "    </tr>\n",
       "    <tr>\n",
       "      <th>95</th>\n",
       "      <td></td>\n",
       "      <td>Sitting 11th in the Premier League table and ...</td>\n",
       "      <td></td>\n",
       "      <td></td>\n",
       "      <td></td>\n",
       "      <td>half time summary</td>\n",
       "    </tr>\n",
       "    <tr>\n",
       "      <th>96</th>\n",
       "      <td></td>\n",
       "      <td>Hello and welcome to our live coverage of the...</td>\n",
       "      <td></td>\n",
       "      <td></td>\n",
       "      <td></td>\n",
       "      <td>half time summary</td>\n",
       "    </tr>\n",
       "  </tbody>\n",
       "</table>\n",
       "</div>"
      ],
      "text/plain": [
       "   time                                            comment event event_player  \\\n",
       "92        CHELSEA SUBS: Edouard Mendy, Christian Pulisi...                      \n",
       "93        CHELSEA (3-5-1-1): Kepa Arrizabalaga; Trevoh ...                      \n",
       "94        Fourteen-time European champions Madrid were ...                      \n",
       "95        Sitting 11th in the Premier League table and ...                      \n",
       "96        Hello and welcome to our live coverage of the...                      \n",
       "\n",
       "   event_team       comment_desc  \n",
       "92             half time summary  \n",
       "93             half time summary  \n",
       "94             half time summary  \n",
       "95             half time summary  \n",
       "96             half time summary  "
      ]
     },
     "execution_count": 56,
     "metadata": {},
     "output_type": "execute_result"
    }
   ],
   "source": [
    "commentary_df.tail()"
   ]
  },
  {
   "cell_type": "code",
   "execution_count": 60,
   "metadata": {},
   "outputs": [],
   "source": [
    "import os"
   ]
  },
  {
   "cell_type": "code",
   "execution_count": 70,
   "metadata": {},
   "outputs": [],
   "source": [
    "commentary_df.to_csv(\"../../data/temp_data.csv\",index=False) "
   ]
  }
 ],
 "metadata": {
  "kernelspec": {
   "display_name": "anly503",
   "language": "python",
   "name": "python3"
  },
  "language_info": {
   "codemirror_mode": {
    "name": "ipython",
    "version": 3
   },
   "file_extension": ".py",
   "mimetype": "text/x-python",
   "name": "python",
   "nbconvert_exporter": "python",
   "pygments_lexer": "ipython3",
   "version": "3.9.9"
  },
  "orig_nbformat": 4,
  "vscode": {
   "interpreter": {
    "hash": "82b101a996fc2efaf104f8f93a1fdeafc49f9be5ea2db7dddfe4c36f648bcac9"
   }
  }
 },
 "nbformat": 4,
 "nbformat_minor": 2
}
